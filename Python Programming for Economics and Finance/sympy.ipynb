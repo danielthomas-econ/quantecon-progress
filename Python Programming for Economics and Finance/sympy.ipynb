{
 "cells": [
  {
   "cell_type": "code",
   "execution_count": 25,
   "id": "785c9755",
   "metadata": {},
   "outputs": [],
   "source": [
    "from sympy import *\n",
    "from sympy.plotting import plot, plot3d_parametric_line, plot3d\n",
    "from sympy.solvers.inequalities import reduce_rational_inequalities\n",
    "from sympy.stats import Poisson, Exponential, Binomial, density, moment, E, cdf\n",
    "\n",
    "import numpy as np\n",
    "import matplotlib.pyplot as plt\n",
    "\n",
    "# Enable the mathjax printer\n",
    "init_printing(use_latex='mathjax')"
   ]
  },
  {
   "cell_type": "code",
   "execution_count": 11,
   "id": "46fd3a8b",
   "metadata": {},
   "outputs": [],
   "source": [
    "x, y, z = symbols('x y z')"
   ]
  },
  {
   "cell_type": "code",
   "execution_count": 12,
   "id": "50ef4901",
   "metadata": {},
   "outputs": [
    {
     "data": {
      "text/latex": [
       "$\\displaystyle \\left(x + y\\right)^{2}$"
      ],
      "text/plain": [
       "       2\n",
       "(x + y) "
      ]
     },
     "execution_count": 12,
     "metadata": {},
     "output_type": "execute_result"
    }
   ],
   "source": [
    "expr = (x+y) ** 2\n",
    "expr"
   ]
  },
  {
   "cell_type": "code",
   "execution_count": 13,
   "id": "12107005",
   "metadata": {},
   "outputs": [
    {
     "data": {
      "text/latex": [
       "$\\displaystyle \\left[ \\left\\{ x : - y\\right\\}\\right]$"
      ],
      "text/plain": [
       "[{x: -y}]"
      ]
     },
     "execution_count": 13,
     "metadata": {},
     "output_type": "execute_result"
    }
   ],
   "source": [
    "solve(expr)"
   ]
  },
  {
   "cell_type": "code",
   "execution_count": 16,
   "id": "6358124f",
   "metadata": {},
   "outputs": [
    {
     "data": {
      "text/latex": [
       "$\\displaystyle \\left[ \\right]$"
      ],
      "text/plain": [
       "[]"
      ]
     },
     "execution_count": 16,
     "metadata": {},
     "output_type": "execute_result"
    }
   ],
   "source": [
    "# solving a system of equations\n",
    "linear1 = Eq(3*x + 5*y, 7)\n",
    "linear2 = Eq(10*x -2*y, 1)\n",
    "\n",
    "# to test output when no solns exist\n",
    "linear3 = Eq(9*x + 15*y,1)\n",
    "\n",
    "solve([linear1,linear3])"
   ]
  },
  {
   "cell_type": "code",
   "execution_count": 18,
   "id": "b21998dc",
   "metadata": {},
   "outputs": [
    {
     "data": {
      "text/latex": [
       "$\\displaystyle \\frac{\\sin{\\left(x \\right)} \\cos{\\left(x \\right)}}{\\tan{\\left(x \\right)}} = 0$"
      ],
      "text/plain": [
       "sin(x)⋅cos(x)    \n",
       "───────────── = 0\n",
       "   tan(x)        "
      ]
     },
     "execution_count": 18,
     "metadata": {},
     "output_type": "execute_result"
    }
   ],
   "source": [
    "# Create an equation\n",
    "eq = Eq((sin(x) * cos(x))/tan(x), 0)\n",
    "eq"
   ]
  },
  {
   "cell_type": "code",
   "execution_count": null,
   "id": "e11ac83d",
   "metadata": {},
   "outputs": [
    {
     "data": {
      "text/latex": [
       "$\\displaystyle \\cos^{2}{\\left(x \\right)} = 0$"
      ],
      "text/plain": [
       "   2       \n",
       "cos (x) = 0"
      ]
     },
     "execution_count": 20,
     "metadata": {},
     "output_type": "execute_result"
    }
   ],
   "source": [
    "# Simplify an expression\n",
    "simplified_expr = simplify(eq)\n",
    "simplified_expr\n",
    "# mind = blown!!!"
   ]
  },
  {
   "cell_type": "code",
   "execution_count": 23,
   "id": "74d37e72",
   "metadata": {},
   "outputs": [
    {
     "data": {
      "text/latex": [
       "$\\displaystyle \\left[ \\left(\\frac{A s}{δ}\\right)^{- \\frac{1}{α - 1}}\\right]$"
      ],
      "text/plain": [
       "⎡      -1  ⎤\n",
       "⎢     ─────⎥\n",
       "⎢     α - 1⎥\n",
       "⎢⎛A⋅s⎞     ⎥\n",
       "⎢⎜───⎟     ⎥\n",
       "⎣⎝ δ ⎠     ⎦"
      ]
     },
     "execution_count": 23,
     "metadata": {},
     "output_type": "execute_result"
    }
   ],
   "source": [
    "# solving a solow-swan fixed point\n",
    "A, s, k, α, δ = symbols('A s k^* α δ')\n",
    "\n",
    "# set the model equal to k to find the fixed pt k_{t+1} = k_{t}\n",
    "# fixed pt by def is f(k) = k\n",
    "solow = Eq(s*A*k**α + (1-δ)*k,k)\n",
    "# solving the model wrt k \n",
    "solve(solow,k)"
   ]
  },
  {
   "cell_type": "code",
   "execution_count": 24,
   "id": "0a65aa60",
   "metadata": {},
   "outputs": [
    {
     "data": {
      "text/latex": [
       "$\\displaystyle x \\leq 5 - \\frac{y}{2} \\wedge x \\leq 15 - \\frac{5 y}{2} \\wedge -\\infty < x$"
      ],
      "text/plain": [
       "        y            5⋅y         \n",
       "x ≤ 5 - ─ ∧ x ≤ 15 - ─── ∧ -∞ < x\n",
       "        2             2          "
      ]
     },
     "execution_count": 24,
     "metadata": {},
     "output_type": "execute_result"
    }
   ],
   "source": [
    "reduce_inequalities([2*x + 5*y <= 30, 4*x + 2*y <= 20], [x])"
   ]
  },
  {
   "cell_type": "code",
   "execution_count": null,
   "id": "1eb8a416",
   "metadata": {},
   "outputs": [
    {
     "data": {
      "text/latex": [
       "$\\displaystyle 36$"
      ],
      "text/plain": [
       "36"
      ]
     },
     "execution_count": 27,
     "metadata": {},
     "output_type": "execute_result"
    }
   ],
   "source": [
    "x, y, i, j = symbols(\"x y i j\")\n",
    "# creating a series for x*y, with x and y indexed by i and j respectively\n",
    "sum_xy = Sum(Indexed('x', i)*Indexed('y', j), \n",
    "            (i, 0, 3),\n",
    "            (j, 0, 3))\n",
    "\n",
    "# converts the symbolic expression into the equivalent of a python function sum_xy(x,y), so x and y can now be given values\n",
    "sum_xy = lambdify([x, y], sum_xy)\n",
    "grid = np.arange(0, 4, 1)\n",
    "int(sum_xy(grid, grid))"
   ]
  },
  {
   "cell_type": "code",
   "execution_count": 31,
   "id": "7ab9d2c7",
   "metadata": {},
   "outputs": [
    {
     "data": {
      "text/latex": [
       "$\\displaystyle D_{0} \\left(\\begin{cases} \\frac{1}{r} & \\text{for}\\: \\left|{r - 1}\\right| < 1 \\\\\\sum_{i=0}^{\\infty} \\left(1 - r\\right)^{i} & \\text{otherwise} \\end{cases}\\right)$"
      ],
      "text/plain": [
       "   ⎛⎧      1                        ⎞\n",
       "   ⎜⎪      ─         for │r - 1│ < 1⎟\n",
       "   ⎜⎪      r                        ⎟\n",
       "   ⎜⎪                               ⎟\n",
       "   ⎜⎪  ∞                            ⎟\n",
       "   ⎜⎪ ___                           ⎟\n",
       "D₀⋅⎜⎨ ╲                             ⎟\n",
       "   ⎜⎪  ╲          i                 ⎟\n",
       "   ⎜⎪  ╱   (1 - r)      otherwise   ⎟\n",
       "   ⎜⎪ ╱                             ⎟\n",
       "   ⎜⎪ ‾‾‾                           ⎟\n",
       "   ⎜⎪i = 0                          ⎟\n",
       "   ⎝⎩                               ⎠"
      ]
     },
     "execution_count": 31,
     "metadata": {},
     "output_type": "execute_result"
    }
   ],
   "source": [
    "# bank deposits with D_0 starting and r in reserve, so 1-r loaned\n",
    "D = Symbol('D_0')\n",
    "r = Symbol('r', positive= True)\n",
    "Dt = Sum((1-r)**i * D,(i, 0, oo))\n",
    "Dt.doit()"
   ]
  },
  {
   "cell_type": "code",
   "execution_count": 12,
   "id": "5f083a95",
   "metadata": {},
   "outputs": [
    {
     "data": {
      "text/latex": [
       "$\\displaystyle λ$"
      ],
      "text/plain": [
       "λ"
      ]
     },
     "execution_count": 12,
     "metadata": {},
     "output_type": "execute_result"
    }
   ],
   "source": [
    "# calculating expected value of a poisson distribution\n",
    "λ = Symbol('λ')\n",
    "x = Symbol('x', integer = True, positive = True) # only defined for x = 0, 1, 2.....\n",
    "\n",
    "pmf = (λ**x * exp(-λ))/factorial(x)\n",
    "\n",
    "expectedval = Sum(x*pmf, (x,0,oo)) # E(x) = sum of x * pmf\n",
    "simplify(expectedval.doit())"
   ]
  },
  {
   "cell_type": "code",
   "execution_count": 16,
   "id": "c82f5df9",
   "metadata": {},
   "outputs": [],
   "source": [
    "# Eg: two person pareto efficient alloc\n",
    "\n",
    "# Define symbols and utility functions\n",
    "x, y, α, β = symbols('x, y, α, β')\n",
    "u_a = x**α * y**(1-α)\n",
    "u_b = (1 - x)**β * (1 - y)**(1 - β)"
   ]
  },
  {
   "cell_type": "markdown",
   "id": "b53dbe26",
   "metadata": {},
   "source": [
    "In terms of marginal utility, the efficient allocation must satisfy $\\dfrac{\\dfrac{ \\partial u_{a} }{ \\partial x }}{\\dfrac{ \\partial u_{a} }{ \\partial y }} = \\dfrac{\\dfrac{ \\partial u_{b} }{ \\partial x }}{\\dfrac{ \\partial u_{b} }{ \\partial y }}$"
   ]
  },
  {
   "cell_type": "code",
   "execution_count": 19,
   "id": "08a7e0b0",
   "metadata": {},
   "outputs": [
    {
     "data": {
      "text/latex": [
       "$\\displaystyle \\frac{x β \\left(α - 1\\right)}{x α - x β + α β - α}$"
      ],
      "text/plain": [
       "    x⋅β⋅(α - 1)    \n",
       "───────────────────\n",
       "x⋅α - x⋅β + α⋅β - α"
      ]
     },
     "execution_count": 19,
     "metadata": {},
     "output_type": "execute_result"
    }
   ],
   "source": [
    "pareto = Eq(diff(u_a,x)/diff(u_a,y),diff(u_b,x)/diff(u_b,y))\n",
    "solve(pareto,y)[0] # [0] gives the first index since solve outputs a list"
   ]
  },
  {
   "cell_type": "markdown",
   "id": "533ff408",
   "metadata": {},
   "source": [
    "# Ex 18.1\n",
    "Use `sympy` to verify L'Hopital's rule for $\\lim\\limits_{x\\to 0} \\dfrac{{y^x-1}}{x}$"
   ]
  },
  {
   "cell_type": "code",
   "execution_count": 26,
   "id": "7f3d837a",
   "metadata": {},
   "outputs": [
    {
     "name": "stdout",
     "output_type": "stream",
     "text": [
      "Using sympy's default limits solver: log(y)\n",
      "Using L'Hopital's rule + sympy's solver: log(y)\n",
      "Both are the same. Hence verified\n"
     ]
    }
   ],
   "source": [
    "x,y = symbols('x y')\n",
    "num = y**x - 1\n",
    "f = num/x\n",
    "\n",
    "# native sympy\n",
    "native_soln = limit(f,x,0)\n",
    "\n",
    "# using L'Hopital's rule\n",
    "f_diff = diff(num,x)/diff(x,x)\n",
    "lhopital = limit(f_diff,x,0)\n",
    "\n",
    "print(f\"Using sympy's default limits solver: {native_soln}\")\n",
    "print(f\"Using L'Hopital's rule + sympy's solver: {lhopital}\")\n",
    "print(\"Both are the same. Hence verified\")"
   ]
  },
  {
   "cell_type": "markdown",
   "id": "24eb2ad3",
   "metadata": {},
   "source": [
    "# Ex 16.2\n",
    "Compute the MLE of $p$ for a binomial distribution"
   ]
  },
  {
   "cell_type": "code",
   "execution_count": 32,
   "id": "756372b0",
   "metadata": {},
   "outputs": [
    {
     "data": {
      "text/latex": [
       "$\\displaystyle \\frac{x}{n}$"
      ],
      "text/plain": [
       "x\n",
       "─\n",
       "n"
      ]
     },
     "execution_count": 32,
     "metadata": {},
     "output_type": "execute_result"
    }
   ],
   "source": [
    "x, n, p = symbols('x n p')\n",
    "# likelihood function\n",
    "L = factorial(n)/(factorial(x) * factorial(n-x)) * p**x * (1-p)**(n-x)\n",
    "\n",
    "# log likelihood function\n",
    "ln_L = log(L)\n",
    "\n",
    "# first order condition: maximizing the log likelihood function\n",
    "foc = Eq(diff(ln_L,p),0)\n",
    "\n",
    "# solution = MLE of p\n",
    "solve(foc,p)[0]"
   ]
  }
 ],
 "metadata": {
  "kernelspec": {
   "display_name": "quantecon",
   "language": "python",
   "name": "python3"
  },
  "language_info": {
   "codemirror_mode": {
    "name": "ipython",
    "version": 3
   },
   "file_extension": ".py",
   "mimetype": "text/x-python",
   "name": "python",
   "nbconvert_exporter": "python",
   "pygments_lexer": "ipython3",
   "version": "3.13.2"
  }
 },
 "nbformat": 4,
 "nbformat_minor": 5
}
