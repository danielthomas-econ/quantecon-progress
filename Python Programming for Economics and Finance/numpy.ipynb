{
 "cells": [
  {
   "cell_type": "code",
   "execution_count": 1,
   "metadata": {},
   "outputs": [],
   "source": [
    "import random\n",
    "import numpy as np\n",
    "import quantecon as qe\n",
    "import matplotlib.pyplot as plt"
   ]
  },
  {
   "cell_type": "code",
   "execution_count": 3,
   "metadata": {},
   "outputs": [
    {
     "name": "stdout",
     "output_type": "stream",
     "text": [
      "CPU times: total: 375 ms\n",
      "Wall time: 471 ms\n"
     ]
    }
   ],
   "source": [
    "%%time\n",
    "n = 1000000\n",
    "y = 0      # Will accumulate and store sum\n",
    "for i in range(n):\n",
    "    x = random.uniform(0, 1)\n",
    "    y += x**2"
   ]
  },
  {
   "cell_type": "code",
   "execution_count": 4,
   "metadata": {},
   "outputs": [
    {
     "name": "stdout",
     "output_type": "stream",
     "text": [
      "CPU times: total: 15.6 ms\n",
      "Wall time: 46.6 ms\n"
     ]
    }
   ],
   "source": [
    "%%time\n",
    "\n",
    "x = np.random.uniform(0, 1, n)\n",
    "y = np.sum(x**2)"
   ]
  },
  {
   "cell_type": "code",
   "execution_count": 5,
   "metadata": {},
   "outputs": [
    {
     "data": {
      "text/plain": [
       "array([2. , 2.5, 3. , 3.5, 4. ])"
      ]
     },
     "execution_count": 5,
     "metadata": {},
     "output_type": "execute_result"
    }
   ],
   "source": [
    "np.linspace(2,4,5)"
   ]
  },
  {
   "cell_type": "markdown",
   "metadata": {},
   "source": [
    "### Numpy methods"
   ]
  },
  {
   "cell_type": "code",
   "execution_count": 19,
   "metadata": {},
   "outputs": [
    {
     "name": "stdout",
     "output_type": "stream",
     "text": [
      "sort = [1 2 3 5 7 8]\n",
      "sum = 26\n",
      "mean = 4.333333333333333\n",
      "max = 8\n",
      "argmax = 5\n",
      "cumsum = [ 1  3  6 11 18 26]\n",
      "cumprod = [   1    2    6   30  210 1680]\n",
      "var = 6.5555555555555545\n",
      "std = 2.5603819159562025\n",
      "transpose (T) = [1 2 3 5 7 8]\n",
      "searchsorted = 4\n"
     ]
    }
   ],
   "source": [
    "a = np.array([7,5,2,8,3,1])\n",
    "\n",
    "a.sort()\n",
    "print(f\"sort = {a}\")\n",
    "print(f\"sum = {a.sum()}\")\n",
    "print(f\"mean = {a.mean()}\")\n",
    "print(f\"max = {a.max()}\")\n",
    "print(f\"argmax = {a.argmax()}\")\n",
    "print(f\"cumsum = {a.cumsum()}\")\n",
    "print(f\"cumprod = {a.cumprod()}\")\n",
    "print(f\"var = {a.var()}\")\n",
    "print(f\"std = {a.std()}\")\n",
    "print(f\"transpose (T) = {a.transpose()}\")\n",
    "print(f\"searchsorted = {a.searchsorted(5.5)}\")"
   ]
  },
  {
   "cell_type": "code",
   "execution_count": 21,
   "metadata": {},
   "outputs": [
    {
     "name": "stdout",
     "output_type": "stream",
     "text": [
      "[17 15 12 18 13 11]\n",
      "[70 50 20 80 30 10]\n"
     ]
    }
   ],
   "source": [
    "a = np.array([7,5,2,8,3,1])\n",
    "print(a + 10)\n",
    "print(a * 10)"
   ]
  },
  {
   "cell_type": "code",
   "execution_count": 22,
   "metadata": {},
   "outputs": [
    {
     "data": {
      "text/plain": [
       "array([[2., 2.],\n",
       "       [2., 2.]])"
      ]
     },
     "execution_count": 22,
     "metadata": {},
     "output_type": "execute_result"
    }
   ],
   "source": [
    "A = np.ones((2, 2))\n",
    "B = np.ones((2, 2))\n",
    "A @ B"
   ]
  },
  {
   "cell_type": "code",
   "execution_count": 5,
   "metadata": {},
   "outputs": [
    {
     "name": "stdout",
     "output_type": "stream",
     "text": [
      "[ 5.          7.85714286 10.71428571 13.57142857 16.42857143 19.28571429\n",
      " 22.14285714 25.        ]\n"
     ]
    },
    {
     "data": {
      "text/plain": [
       "array([16.42857143, 19.28571429, 22.14285714, 25.        ])"
      ]
     },
     "execution_count": 5,
     "metadata": {},
     "output_type": "execute_result"
    }
   ],
   "source": [
    "a = np.linspace(5,25,8)\n",
    "print(a)\n",
    "\n",
    "a[a>15]"
   ]
  },
  {
   "cell_type": "markdown",
   "metadata": {},
   "source": [
    "# Exercise 11.3\n",
    "\n",
    "Recall our earlier discussion of the empirical cumulative distribution function.\n",
    "\n",
    "Your task is to\n",
    "\n",
    "- Make the `__call__` method more efficient using NumPy.\n",
    "- Add a method that plots the ECDF over $[a,b]$, where $a$ and $b$ are method parameters."
   ]
  },
  {
   "cell_type": "code",
   "execution_count": 57,
   "metadata": {},
   "outputs": [
    {
     "name": "stdout",
     "output_type": "stream",
     "text": [
      "0.9\n"
     ]
    }
   ],
   "source": [
    "# old implementation\n",
    "import random\n",
    "\n",
    "class ECDF:\n",
    "    def __init__(self, observations):\n",
    "        self.observations = observations\n",
    "        return None\n",
    "        \n",
    "    def __call__(self, x):\n",
    "        counter = 0\n",
    "        for i in self.observations:\n",
    "            if i <= x:\n",
    "                counter += 1\n",
    "\n",
    "        n = len(self.observations)\n",
    "        ecdf = counter / n\n",
    "        return ecdf       \n",
    "\n",
    "observations = [random.uniform(0,100) for i in range(test)]\n",
    "\n",
    "F = ECDF(observations)\n",
    "print(F(90))"
   ]
  },
  {
   "cell_type": "code",
   "execution_count": 2,
   "metadata": {},
   "outputs": [],
   "source": [
    "test = 100"
   ]
  },
  {
   "cell_type": "code",
   "execution_count": 4,
   "metadata": {},
   "outputs": [
    {
     "name": "stdout",
     "output_type": "stream",
     "text": [
      "0.92\n"
     ]
    },
    {
     "data": {
      "image/png": "[encoded data removed]",
      "text/plain": [
       "<Figure size 640x480 with 1 Axes>"
      ]
     },
     "metadata": {},
     "output_type": "display_data"
    }
   ],
   "source": [
    "# new optimized model\n",
    "\n",
    "class ECDF:\n",
    "    def __init__(self, observations):\n",
    "        self.observations = np.sort(np.array(observations))\n",
    "        return None\n",
    "        \n",
    "    def __call__(self, x):\n",
    "        return (self.observations.searchsorted(x)/len(self.observations))\n",
    "\n",
    "    def plot(self, observations):\n",
    "        y = np.linspace(0,len(observations),test)/test\n",
    "        plt.plot(self.observations, y, label = 'ECDF')\n",
    "        plt.xlabel(\"Values\")\n",
    "        plt.ylabel(\"ECDF\")\n",
    "        plt.show()\n",
    "        \n",
    "\n",
    "observations = [random.uniform(0,100) for i in range(test)]\n",
    "F = ECDF(observations)\n",
    "print(F(90))\n",
    "\n",
    "F.plot(observations)"
   ]
  }
 ],
 "metadata": {
  "kernelspec": {
   "display_name": "quantecon",
   "language": "python",
   "name": "python3"
  },
  "language_info": {
   "codemirror_mode": {
    "name": "ipython",
    "version": 3
   },
   "file_extension": ".py",
   "mimetype": "text/x-python",
   "name": "python",
   "nbconvert_exporter": "python",
   "pygments_lexer": "ipython3",
   "version": "3.13.2"
  }
 },
 "nbformat": 4,
 "nbformat_minor": 2
}
