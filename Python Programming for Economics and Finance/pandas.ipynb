{
 "cells": [
  {
   "cell_type": "code",
   "execution_count": 38,
   "metadata": {},
   "outputs": [],
   "source": [
    "import pandas as pd\n",
    "import numpy as np\n",
    "import matplotlib.pyplot as plt\n",
    "import requests"
   ]
  },
  {
   "cell_type": "code",
   "execution_count": 6,
   "metadata": {},
   "outputs": [
    {
     "name": "stdout",
     "output_type": "stream",
     "text": [
      "0   -0.689278\n",
      "1    0.208559\n",
      "2    1.384111\n",
      "3    0.777084\n",
      "dtype: float64\n",
      "\n",
      "s times 100:\n",
      "0    -68.927775\n",
      "1     20.855853\n",
      "2    138.411126\n",
      "3     77.708416\n",
      "dtype: float64\n"
     ]
    }
   ],
   "source": [
    "s = pd.Series(np.random.randn(4))\n",
    "print(s)\n",
    "print()\n",
    "print(\"s times 100:\")\n",
    "print(s*100)"
   ]
  },
  {
   "cell_type": "code",
   "execution_count": 7,
   "metadata": {},
   "outputs": [
    {
     "name": "stdout",
     "output_type": "stream",
     "text": [
      "0    1\n",
      "1    2\n",
      "2    3\n",
      "3    4\n",
      "dtype: int64\n"
     ]
    }
   ],
   "source": [
    "t = pd.Series((1,2,3,4))\n",
    "print(t)"
   ]
  },
  {
   "cell_type": "code",
   "execution_count": 5,
   "metadata": {},
   "outputs": [
    {
     "data": {
      "text/plain": [
       "count    4.000000\n",
       "mean    -0.848639\n",
       "std      0.626167\n",
       "min     -1.546348\n",
       "25%     -1.166150\n",
       "50%     -0.901615\n",
       "75%     -0.584104\n",
       "max     -0.044981\n",
       "dtype: float64"
      ]
     },
     "execution_count": 5,
     "metadata": {},
     "output_type": "execute_result"
    }
   ],
   "source": [
    "s.describe()"
   ]
  },
  {
   "cell_type": "code",
   "execution_count": 7,
   "metadata": {},
   "outputs": [
    {
     "data": {
      "text/plain": [
       "AMZN   -0.689278\n",
       "AAPL    0.208559\n",
       "MSFT    1.384111\n",
       "GOOG    0.777084\n",
       "dtype: float64"
      ]
     },
     "execution_count": 7,
     "metadata": {},
     "output_type": "execute_result"
    }
   ],
   "source": [
    "s.index = ['AMZN', 'AAPL', 'MSFT', 'GOOG']\n",
    "s"
   ]
  },
  {
   "cell_type": "code",
   "execution_count": 24,
   "metadata": {},
   "outputs": [
    {
     "data": {
      "application/vnd.microsoft.datawrangler.viewer.v0+json": {
       "columns": [
        {
         "name": "index",
         "rawType": "int64",
         "type": "integer"
        },
        {
         "name": "country",
         "rawType": "object",
         "type": "string"
        },
        {
         "name": "country isocode",
         "rawType": "object",
         "type": "string"
        },
        {
         "name": "year",
         "rawType": "int64",
         "type": "integer"
        },
        {
         "name": "POP",
         "rawType": "float64",
         "type": "float"
        },
        {
         "name": "XRAT",
         "rawType": "float64",
         "type": "float"
        },
        {
         "name": "tcgdp",
         "rawType": "float64",
         "type": "float"
        },
        {
         "name": "cc",
         "rawType": "float64",
         "type": "float"
        },
        {
         "name": "cg",
         "rawType": "float64",
         "type": "float"
        }
       ],
       "conversionMethod": "pd.DataFrame",
       "ref": "4e3d78d2-3bae-43d7-b05c-e1b79545e917",
       "rows": [
        [
         "0",
         "Argentina",
         "ARG",
         "2000",
         "37335.653",
         "0.9995",
         "295072.21869",
         "75.716805379",
         "5.5788042896"
        ],
        [
         "1",
         "Australia",
         "AUS",
         "2000",
         "19053.186",
         "1.72483",
         "541804.6521",
         "67.759025993",
         "6.7200975332"
        ],
        [
         "2",
         "India",
         "IND",
         "2000",
         "1006300.297",
         "44.9416",
         "1728144.3748",
         "64.575551328",
         "14.072205773"
        ],
        [
         "3",
         "Israel",
         "ISR",
         "2000",
         "6114.57",
         "4.07733",
         "129253.89423",
         "64.436450847",
         "10.266688415"
        ],
        [
         "4",
         "Malawi",
         "MWI",
         "2000",
         "11801.505",
         "59.543808333",
         "5026.2217836",
         "74.707624181",
         "11.658954494"
        ],
        [
         "5",
         "South Africa",
         "ZAF",
         "2000",
         "45064.098",
         "6.93983",
         "227242.36949",
         "72.718710427",
         "5.7265463933"
        ],
        [
         "6",
         "United States",
         "USA",
         "2000",
         "282171.957",
         "1.0",
         "9898700.0",
         "72.347054303",
         "6.0324539789"
        ],
        [
         "7",
         "Uruguay",
         "URY",
         "2000",
         "3219.793",
         "12.099591667",
         "25255.961693",
         "78.978740282",
         "5.108067988"
        ]
       ],
       "shape": {
        "columns": 8,
        "rows": 8
       }
      },
      "text/html": [
       "<div>\n",
       "<style scoped>\n",
       "    .dataframe tbody tr th:only-of-type {\n",
       "        vertical-align: middle;\n",
       "    }\n",
       "\n",
       "    .dataframe tbody tr th {\n",
       "        vertical-align: top;\n",
       "    }\n",
       "\n",
       "    .dataframe thead th {\n",
       "        text-align: right;\n",
       "    }\n",
       "</style>\n",
       "<table border=\"1\" class=\"dataframe\">\n",
       "  <thead>\n",
       "    <tr style=\"text-align: right;\">\n",
       "      <th></th>\n",
       "      <th>country</th>\n",
       "      <th>country isocode</th>\n",
       "      <th>year</th>\n",
       "      <th>POP</th>\n",
       "      <th>XRAT</th>\n",
       "      <th>tcgdp</th>\n",
       "      <th>cc</th>\n",
       "      <th>cg</th>\n",
       "    </tr>\n",
       "  </thead>\n",
       "  <tbody>\n",
       "    <tr>\n",
       "      <th>0</th>\n",
       "      <td>Argentina</td>\n",
       "      <td>ARG</td>\n",
       "      <td>2000</td>\n",
       "      <td>37335.653</td>\n",
       "      <td>0.999500</td>\n",
       "      <td>2.950722e+05</td>\n",
       "      <td>75.716805</td>\n",
       "      <td>5.578804</td>\n",
       "    </tr>\n",
       "    <tr>\n",
       "      <th>1</th>\n",
       "      <td>Australia</td>\n",
       "      <td>AUS</td>\n",
       "      <td>2000</td>\n",
       "      <td>19053.186</td>\n",
       "      <td>1.724830</td>\n",
       "      <td>5.418047e+05</td>\n",
       "      <td>67.759026</td>\n",
       "      <td>6.720098</td>\n",
       "    </tr>\n",
       "    <tr>\n",
       "      <th>2</th>\n",
       "      <td>India</td>\n",
       "      <td>IND</td>\n",
       "      <td>2000</td>\n",
       "      <td>1006300.297</td>\n",
       "      <td>44.941600</td>\n",
       "      <td>1.728144e+06</td>\n",
       "      <td>64.575551</td>\n",
       "      <td>14.072206</td>\n",
       "    </tr>\n",
       "    <tr>\n",
       "      <th>3</th>\n",
       "      <td>Israel</td>\n",
       "      <td>ISR</td>\n",
       "      <td>2000</td>\n",
       "      <td>6114.570</td>\n",
       "      <td>4.077330</td>\n",
       "      <td>1.292539e+05</td>\n",
       "      <td>64.436451</td>\n",
       "      <td>10.266688</td>\n",
       "    </tr>\n",
       "    <tr>\n",
       "      <th>4</th>\n",
       "      <td>Malawi</td>\n",
       "      <td>MWI</td>\n",
       "      <td>2000</td>\n",
       "      <td>11801.505</td>\n",
       "      <td>59.543808</td>\n",
       "      <td>5.026222e+03</td>\n",
       "      <td>74.707624</td>\n",
       "      <td>11.658954</td>\n",
       "    </tr>\n",
       "    <tr>\n",
       "      <th>5</th>\n",
       "      <td>South Africa</td>\n",
       "      <td>ZAF</td>\n",
       "      <td>2000</td>\n",
       "      <td>45064.098</td>\n",
       "      <td>6.939830</td>\n",
       "      <td>2.272424e+05</td>\n",
       "      <td>72.718710</td>\n",
       "      <td>5.726546</td>\n",
       "    </tr>\n",
       "    <tr>\n",
       "      <th>6</th>\n",
       "      <td>United States</td>\n",
       "      <td>USA</td>\n",
       "      <td>2000</td>\n",
       "      <td>282171.957</td>\n",
       "      <td>1.000000</td>\n",
       "      <td>9.898700e+06</td>\n",
       "      <td>72.347054</td>\n",
       "      <td>6.032454</td>\n",
       "    </tr>\n",
       "    <tr>\n",
       "      <th>7</th>\n",
       "      <td>Uruguay</td>\n",
       "      <td>URY</td>\n",
       "      <td>2000</td>\n",
       "      <td>3219.793</td>\n",
       "      <td>12.099592</td>\n",
       "      <td>2.525596e+04</td>\n",
       "      <td>78.978740</td>\n",
       "      <td>5.108068</td>\n",
       "    </tr>\n",
       "  </tbody>\n",
       "</table>\n",
       "</div>"
      ],
      "text/plain": [
       "         country country isocode  year          POP       XRAT         tcgdp  \\\n",
       "0      Argentina             ARG  2000    37335.653   0.999500  2.950722e+05   \n",
       "1      Australia             AUS  2000    19053.186   1.724830  5.418047e+05   \n",
       "2          India             IND  2000  1006300.297  44.941600  1.728144e+06   \n",
       "3         Israel             ISR  2000     6114.570   4.077330  1.292539e+05   \n",
       "4         Malawi             MWI  2000    11801.505  59.543808  5.026222e+03   \n",
       "5   South Africa             ZAF  2000    45064.098   6.939830  2.272424e+05   \n",
       "6  United States             USA  2000   282171.957   1.000000  9.898700e+06   \n",
       "7        Uruguay             URY  2000     3219.793  12.099592  2.525596e+04   \n",
       "\n",
       "          cc         cg  \n",
       "0  75.716805   5.578804  \n",
       "1  67.759026   6.720098  \n",
       "2  64.575551  14.072206  \n",
       "3  64.436451  10.266688  \n",
       "4  74.707624  11.658954  \n",
       "5  72.718710   5.726546  \n",
       "6  72.347054   6.032454  \n",
       "7  78.978740   5.108068  "
      ]
     },
     "execution_count": 24,
     "metadata": {},
     "output_type": "execute_result"
    }
   ],
   "source": [
    "df = pd.read_csv('https://raw.githubusercontent.com/QuantEcon/lecture-python-programming/master/source/_static/lecture_specific/pandas/data/test_pwt.csv')\n",
    "df"
   ]
  },
  {
   "cell_type": "code",
   "execution_count": 14,
   "metadata": {},
   "outputs": [
    {
     "data": {
      "application/vnd.microsoft.datawrangler.viewer.v0+json": {
       "columns": [
        {
         "name": "index",
         "rawType": "int64",
         "type": "integer"
        },
        {
         "name": "country",
         "rawType": "object",
         "type": "string"
        },
        {
         "name": "year",
         "rawType": "int64",
         "type": "integer"
        },
        {
         "name": "XRAT",
         "rawType": "float64",
         "type": "float"
        },
        {
         "name": "tcgdp",
         "rawType": "float64",
         "type": "float"
        },
        {
         "name": "cg",
         "rawType": "float64",
         "type": "float"
        }
       ],
       "conversionMethod": "pd.DataFrame",
       "ref": "86c64dda-f96b-40b2-b584-c86155ef175b",
       "rows": [
        [
         "0",
         "Argentina",
         "2000",
         "0.9995",
         "295072.21869",
         "5.5788042896"
        ],
        [
         "1",
         "Australia",
         "2000",
         "1.72483",
         "541804.6521",
         "6.7200975332"
        ],
        [
         "2",
         "India",
         "2000",
         "44.9416",
         "1728144.3748",
         "14.072205773"
        ],
        [
         "3",
         "Israel",
         "2000",
         "4.07733",
         "129253.89423",
         "10.266688415"
        ],
        [
         "4",
         "Malawi",
         "2000",
         "59.543808333",
         "5026.2217836",
         "11.658954494"
        ],
        [
         "5",
         "South Africa",
         "2000",
         "6.93983",
         "227242.36949",
         "5.7265463933"
        ],
        [
         "6",
         "United States",
         "2000",
         "1.0",
         "9898700.0",
         "6.0324539789"
        ],
        [
         "7",
         "Uruguay",
         "2000",
         "12.099591667",
         "25255.961693",
         "5.108067988"
        ]
       ],
       "shape": {
        "columns": 5,
        "rows": 8
       }
      },
      "text/html": [
       "<div>\n",
       "<style scoped>\n",
       "    .dataframe tbody tr th:only-of-type {\n",
       "        vertical-align: middle;\n",
       "    }\n",
       "\n",
       "    .dataframe tbody tr th {\n",
       "        vertical-align: top;\n",
       "    }\n",
       "\n",
       "    .dataframe thead th {\n",
       "        text-align: right;\n",
       "    }\n",
       "</style>\n",
       "<table border=\"1\" class=\"dataframe\">\n",
       "  <thead>\n",
       "    <tr style=\"text-align: right;\">\n",
       "      <th></th>\n",
       "      <th>country</th>\n",
       "      <th>year</th>\n",
       "      <th>XRAT</th>\n",
       "      <th>tcgdp</th>\n",
       "      <th>cg</th>\n",
       "    </tr>\n",
       "  </thead>\n",
       "  <tbody>\n",
       "    <tr>\n",
       "      <th>0</th>\n",
       "      <td>Argentina</td>\n",
       "      <td>2000</td>\n",
       "      <td>0.999500</td>\n",
       "      <td>2.950722e+05</td>\n",
       "      <td>5.578804</td>\n",
       "    </tr>\n",
       "    <tr>\n",
       "      <th>1</th>\n",
       "      <td>Australia</td>\n",
       "      <td>2000</td>\n",
       "      <td>1.724830</td>\n",
       "      <td>5.418047e+05</td>\n",
       "      <td>6.720098</td>\n",
       "    </tr>\n",
       "    <tr>\n",
       "      <th>2</th>\n",
       "      <td>India</td>\n",
       "      <td>2000</td>\n",
       "      <td>44.941600</td>\n",
       "      <td>1.728144e+06</td>\n",
       "      <td>14.072206</td>\n",
       "    </tr>\n",
       "    <tr>\n",
       "      <th>3</th>\n",
       "      <td>Israel</td>\n",
       "      <td>2000</td>\n",
       "      <td>4.077330</td>\n",
       "      <td>1.292539e+05</td>\n",
       "      <td>10.266688</td>\n",
       "    </tr>\n",
       "    <tr>\n",
       "      <th>4</th>\n",
       "      <td>Malawi</td>\n",
       "      <td>2000</td>\n",
       "      <td>59.543808</td>\n",
       "      <td>5.026222e+03</td>\n",
       "      <td>11.658954</td>\n",
       "    </tr>\n",
       "    <tr>\n",
       "      <th>5</th>\n",
       "      <td>South Africa</td>\n",
       "      <td>2000</td>\n",
       "      <td>6.939830</td>\n",
       "      <td>2.272424e+05</td>\n",
       "      <td>5.726546</td>\n",
       "    </tr>\n",
       "    <tr>\n",
       "      <th>6</th>\n",
       "      <td>United States</td>\n",
       "      <td>2000</td>\n",
       "      <td>1.000000</td>\n",
       "      <td>9.898700e+06</td>\n",
       "      <td>6.032454</td>\n",
       "    </tr>\n",
       "    <tr>\n",
       "      <th>7</th>\n",
       "      <td>Uruguay</td>\n",
       "      <td>2000</td>\n",
       "      <td>12.099592</td>\n",
       "      <td>2.525596e+04</td>\n",
       "      <td>5.108068</td>\n",
       "    </tr>\n",
       "  </tbody>\n",
       "</table>\n",
       "</div>"
      ],
      "text/plain": [
       "         country  year       XRAT         tcgdp         cg\n",
       "0      Argentina  2000   0.999500  2.950722e+05   5.578804\n",
       "1      Australia  2000   1.724830  5.418047e+05   6.720098\n",
       "2          India  2000  44.941600  1.728144e+06  14.072206\n",
       "3         Israel  2000   4.077330  1.292539e+05  10.266688\n",
       "4         Malawi  2000  59.543808  5.026222e+03  11.658954\n",
       "5   South Africa  2000   6.939830  2.272424e+05   5.726546\n",
       "6  United States  2000   1.000000  9.898700e+06   6.032454\n",
       "7        Uruguay  2000  12.099592  2.525596e+04   5.108068"
      ]
     },
     "execution_count": 14,
     "metadata": {},
     "output_type": "execute_result"
    }
   ],
   "source": [
    "df[['country','year','XRAT','tcgdp', 'cg']]"
   ]
  },
  {
   "cell_type": "code",
   "execution_count": 16,
   "metadata": {},
   "outputs": [
    {
     "data": {
      "application/vnd.microsoft.datawrangler.viewer.v0+json": {
       "columns": [
        {
         "name": "index",
         "rawType": "int64",
         "type": "integer"
        },
        {
         "name": "country",
         "rawType": "object",
         "type": "string"
        },
        {
         "name": "year",
         "rawType": "int64",
         "type": "integer"
        },
        {
         "name": "XRAT",
         "rawType": "float64",
         "type": "float"
        },
        {
         "name": "tcgdp",
         "rawType": "float64",
         "type": "float"
        },
        {
         "name": "cg",
         "rawType": "float64",
         "type": "float"
        }
       ],
       "conversionMethod": "pd.DataFrame",
       "ref": "1aa21d0e-6338-4a8e-86f4-f79cfd161035",
       "rows": [
        [
         "2",
         "India",
         "2000",
         "44.9416",
         "1728144.3748",
         "14.072205773"
        ],
        [
         "3",
         "Israel",
         "2000",
         "4.07733",
         "129253.89423",
         "10.266688415"
        ],
        [
         "4",
         "Malawi",
         "2000",
         "59.543808333",
         "5026.2217836",
         "11.658954494"
        ],
        [
         "5",
         "South Africa",
         "2000",
         "6.93983",
         "227242.36949",
         "5.7265463933"
        ]
       ],
       "shape": {
        "columns": 5,
        "rows": 4
       }
      },
      "text/html": [
       "<div>\n",
       "<style scoped>\n",
       "    .dataframe tbody tr th:only-of-type {\n",
       "        vertical-align: middle;\n",
       "    }\n",
       "\n",
       "    .dataframe tbody tr th {\n",
       "        vertical-align: top;\n",
       "    }\n",
       "\n",
       "    .dataframe thead th {\n",
       "        text-align: right;\n",
       "    }\n",
       "</style>\n",
       "<table border=\"1\" class=\"dataframe\">\n",
       "  <thead>\n",
       "    <tr style=\"text-align: right;\">\n",
       "      <th></th>\n",
       "      <th>country</th>\n",
       "      <th>year</th>\n",
       "      <th>XRAT</th>\n",
       "      <th>tcgdp</th>\n",
       "      <th>cg</th>\n",
       "    </tr>\n",
       "  </thead>\n",
       "  <tbody>\n",
       "    <tr>\n",
       "      <th>2</th>\n",
       "      <td>India</td>\n",
       "      <td>2000</td>\n",
       "      <td>44.941600</td>\n",
       "      <td>1.728144e+06</td>\n",
       "      <td>14.072206</td>\n",
       "    </tr>\n",
       "    <tr>\n",
       "      <th>3</th>\n",
       "      <td>Israel</td>\n",
       "      <td>2000</td>\n",
       "      <td>4.077330</td>\n",
       "      <td>1.292539e+05</td>\n",
       "      <td>10.266688</td>\n",
       "    </tr>\n",
       "    <tr>\n",
       "      <th>4</th>\n",
       "      <td>Malawi</td>\n",
       "      <td>2000</td>\n",
       "      <td>59.543808</td>\n",
       "      <td>5.026222e+03</td>\n",
       "      <td>11.658954</td>\n",
       "    </tr>\n",
       "    <tr>\n",
       "      <th>5</th>\n",
       "      <td>South Africa</td>\n",
       "      <td>2000</td>\n",
       "      <td>6.939830</td>\n",
       "      <td>2.272424e+05</td>\n",
       "      <td>5.726546</td>\n",
       "    </tr>\n",
       "  </tbody>\n",
       "</table>\n",
       "</div>"
      ],
      "text/plain": [
       "        country  year       XRAT         tcgdp         cg\n",
       "2         India  2000  44.941600  1.728144e+06  14.072206\n",
       "3        Israel  2000   4.077330  1.292539e+05  10.266688\n",
       "4        Malawi  2000  59.543808  5.026222e+03  11.658954\n",
       "5  South Africa  2000   6.939830  2.272424e+05   5.726546"
      ]
     },
     "execution_count": 16,
     "metadata": {},
     "output_type": "execute_result"
    }
   ],
   "source": [
    "df.loc[2:5,['country','year','XRAT','tcgdp', 'cg']]"
   ]
  },
  {
   "cell_type": "code",
   "execution_count": 17,
   "metadata": {},
   "outputs": [
    {
     "data": {
      "application/vnd.microsoft.datawrangler.viewer.v0+json": {
       "columns": [
        {
         "name": "index",
         "rawType": "int64",
         "type": "integer"
        },
        {
         "name": "country",
         "rawType": "object",
         "type": "string"
        },
        {
         "name": "country isocode",
         "rawType": "object",
         "type": "string"
        },
        {
         "name": "year",
         "rawType": "int64",
         "type": "integer"
        },
        {
         "name": "POP",
         "rawType": "float64",
         "type": "float"
        },
        {
         "name": "XRAT",
         "rawType": "float64",
         "type": "float"
        },
        {
         "name": "tcgdp",
         "rawType": "float64",
         "type": "float"
        },
        {
         "name": "cc",
         "rawType": "float64",
         "type": "float"
        },
        {
         "name": "cg",
         "rawType": "float64",
         "type": "float"
        }
       ],
       "conversionMethod": "pd.DataFrame",
       "ref": "77854f8d-962f-49a4-859d-6c85f0bc4d88",
       "rows": [
        [
         "2",
         "India",
         "IND",
         "2000",
         "1006300.297",
         "44.9416",
         "1728144.3748",
         "64.575551328",
         "14.072205773"
        ],
        [
         "4",
         "Malawi",
         "MWI",
         "2000",
         "11801.505",
         "59.543808333",
         "5026.2217836",
         "74.707624181",
         "11.658954494"
        ]
       ],
       "shape": {
        "columns": 8,
        "rows": 2
       }
      },
      "text/html": [
       "<div>\n",
       "<style scoped>\n",
       "    .dataframe tbody tr th:only-of-type {\n",
       "        vertical-align: middle;\n",
       "    }\n",
       "\n",
       "    .dataframe tbody tr th {\n",
       "        vertical-align: top;\n",
       "    }\n",
       "\n",
       "    .dataframe thead th {\n",
       "        text-align: right;\n",
       "    }\n",
       "</style>\n",
       "<table border=\"1\" class=\"dataframe\">\n",
       "  <thead>\n",
       "    <tr style=\"text-align: right;\">\n",
       "      <th></th>\n",
       "      <th>country</th>\n",
       "      <th>country isocode</th>\n",
       "      <th>year</th>\n",
       "      <th>POP</th>\n",
       "      <th>XRAT</th>\n",
       "      <th>tcgdp</th>\n",
       "      <th>cc</th>\n",
       "      <th>cg</th>\n",
       "    </tr>\n",
       "  </thead>\n",
       "  <tbody>\n",
       "    <tr>\n",
       "      <th>2</th>\n",
       "      <td>India</td>\n",
       "      <td>IND</td>\n",
       "      <td>2000</td>\n",
       "      <td>1006300.297</td>\n",
       "      <td>44.941600</td>\n",
       "      <td>1.728144e+06</td>\n",
       "      <td>64.575551</td>\n",
       "      <td>14.072206</td>\n",
       "    </tr>\n",
       "    <tr>\n",
       "      <th>4</th>\n",
       "      <td>Malawi</td>\n",
       "      <td>MWI</td>\n",
       "      <td>2000</td>\n",
       "      <td>11801.505</td>\n",
       "      <td>59.543808</td>\n",
       "      <td>5.026222e+03</td>\n",
       "      <td>74.707624</td>\n",
       "      <td>11.658954</td>\n",
       "    </tr>\n",
       "  </tbody>\n",
       "</table>\n",
       "</div>"
      ],
      "text/plain": [
       "  country country isocode  year          POP       XRAT         tcgdp  \\\n",
       "2   India             IND  2000  1006300.297  44.941600  1.728144e+06   \n",
       "4  Malawi             MWI  2000    11801.505  59.543808  5.026222e+03   \n",
       "\n",
       "          cc         cg  \n",
       "2  64.575551  14.072206  \n",
       "4  74.707624  11.658954  "
      ]
     },
     "execution_count": 17,
     "metadata": {},
     "output_type": "execute_result"
    }
   ],
   "source": [
    "df.query('POP>=10000 and cg > 10')"
   ]
  },
  {
   "cell_type": "code",
   "execution_count": 18,
   "metadata": {},
   "outputs": [
    {
     "data": {
      "application/vnd.microsoft.datawrangler.viewer.v0+json": {
       "columns": [
        {
         "name": "index",
         "rawType": "int64",
         "type": "integer"
        },
        {
         "name": "country",
         "rawType": "object",
         "type": "string"
        },
        {
         "name": "POP",
         "rawType": "float64",
         "type": "float"
        },
        {
         "name": "tcgdp",
         "rawType": "float64",
         "type": "float"
        }
       ],
       "conversionMethod": "pd.DataFrame",
       "ref": "d4084e59-c4a2-4a7c-9aef-98fd946adaa1",
       "rows": [
        [
         "0",
         "Argentina",
         "37335.653",
         "295072.21869"
        ],
        [
         "1",
         "Australia",
         "19053.186",
         "541804.6521"
        ],
        [
         "2",
         "India",
         "1006300.297",
         "1728144.3748"
        ],
        [
         "3",
         "Israel",
         "6114.57",
         "129253.89423"
        ],
        [
         "4",
         "Malawi",
         "11801.505",
         "5026.2217836"
        ],
        [
         "5",
         "South Africa",
         "45064.098",
         "227242.36949"
        ],
        [
         "6",
         "United States",
         "282171.957",
         "9898700.0"
        ],
        [
         "7",
         "Uruguay",
         "3219.793",
         "25255.961693"
        ]
       ],
       "shape": {
        "columns": 3,
        "rows": 8
       }
      },
      "text/html": [
       "<div>\n",
       "<style scoped>\n",
       "    .dataframe tbody tr th:only-of-type {\n",
       "        vertical-align: middle;\n",
       "    }\n",
       "\n",
       "    .dataframe tbody tr th {\n",
       "        vertical-align: top;\n",
       "    }\n",
       "\n",
       "    .dataframe thead th {\n",
       "        text-align: right;\n",
       "    }\n",
       "</style>\n",
       "<table border=\"1\" class=\"dataframe\">\n",
       "  <thead>\n",
       "    <tr style=\"text-align: right;\">\n",
       "      <th></th>\n",
       "      <th>country</th>\n",
       "      <th>POP</th>\n",
       "      <th>tcgdp</th>\n",
       "    </tr>\n",
       "  </thead>\n",
       "  <tbody>\n",
       "    <tr>\n",
       "      <th>0</th>\n",
       "      <td>Argentina</td>\n",
       "      <td>37335.653</td>\n",
       "      <td>2.950722e+05</td>\n",
       "    </tr>\n",
       "    <tr>\n",
       "      <th>1</th>\n",
       "      <td>Australia</td>\n",
       "      <td>19053.186</td>\n",
       "      <td>5.418047e+05</td>\n",
       "    </tr>\n",
       "    <tr>\n",
       "      <th>2</th>\n",
       "      <td>India</td>\n",
       "      <td>1006300.297</td>\n",
       "      <td>1.728144e+06</td>\n",
       "    </tr>\n",
       "    <tr>\n",
       "      <th>3</th>\n",
       "      <td>Israel</td>\n",
       "      <td>6114.570</td>\n",
       "      <td>1.292539e+05</td>\n",
       "    </tr>\n",
       "    <tr>\n",
       "      <th>4</th>\n",
       "      <td>Malawi</td>\n",
       "      <td>11801.505</td>\n",
       "      <td>5.026222e+03</td>\n",
       "    </tr>\n",
       "    <tr>\n",
       "      <th>5</th>\n",
       "      <td>South Africa</td>\n",
       "      <td>45064.098</td>\n",
       "      <td>2.272424e+05</td>\n",
       "    </tr>\n",
       "    <tr>\n",
       "      <th>6</th>\n",
       "      <td>United States</td>\n",
       "      <td>282171.957</td>\n",
       "      <td>9.898700e+06</td>\n",
       "    </tr>\n",
       "    <tr>\n",
       "      <th>7</th>\n",
       "      <td>Uruguay</td>\n",
       "      <td>3219.793</td>\n",
       "      <td>2.525596e+04</td>\n",
       "    </tr>\n",
       "  </tbody>\n",
       "</table>\n",
       "</div>"
      ],
      "text/plain": [
       "         country          POP         tcgdp\n",
       "0      Argentina    37335.653  2.950722e+05\n",
       "1      Australia    19053.186  5.418047e+05\n",
       "2          India  1006300.297  1.728144e+06\n",
       "3         Israel     6114.570  1.292539e+05\n",
       "4         Malawi    11801.505  5.026222e+03\n",
       "5   South Africa    45064.098  2.272424e+05\n",
       "6  United States   282171.957  9.898700e+06\n",
       "7        Uruguay     3219.793  2.525596e+04"
      ]
     },
     "execution_count": 18,
     "metadata": {},
     "output_type": "execute_result"
    }
   ],
   "source": [
    "df_subset = df[['country', 'POP', 'tcgdp']]\n",
    "df_subset"
   ]
  },
  {
   "cell_type": "code",
   "execution_count": 19,
   "metadata": {},
   "outputs": [
    {
     "data": {
      "text/plain": [
       "country                Uruguay\n",
       "country isocode            ZAF\n",
       "year                      2000\n",
       "POP                1006300.297\n",
       "XRAT                 59.543808\n",
       "tcgdp                9898700.0\n",
       "cc                    78.97874\n",
       "cg                   14.072206\n",
       "dtype: object"
      ]
     },
     "execution_count": 19,
     "metadata": {},
     "output_type": "execute_result"
    }
   ],
   "source": [
    "df.apply(max)"
   ]
  },
  {
   "cell_type": "code",
   "execution_count": 8,
   "metadata": {},
   "outputs": [
    {
     "data": {
      "application/vnd.microsoft.datawrangler.viewer.v0+json": {
       "columns": [
        {
         "name": "index",
         "rawType": "int64",
         "type": "integer"
        },
        {
         "name": "country",
         "rawType": "object",
         "type": "string"
        },
        {
         "name": "country isocode",
         "rawType": "object",
         "type": "string"
        },
        {
         "name": "year",
         "rawType": "object",
         "type": "unknown"
        },
        {
         "name": "POP",
         "rawType": "object",
         "type": "unknown"
        },
        {
         "name": "XRAT",
         "rawType": "object",
         "type": "unknown"
        },
        {
         "name": "tcgdp",
         "rawType": "object",
         "type": "unknown"
        },
        {
         "name": "cc",
         "rawType": "object",
         "type": "unknown"
        },
        {
         "name": "cg",
         "rawType": "object",
         "type": "unknown"
        }
       ],
       "conversionMethod": "pd.DataFrame",
       "ref": "a4edbde6-1ab7-4a80-a4b2-aa532e84776a",
       "rows": [
        [
         "0",
         "Argentina",
         "ARG",
         "2000",
         "37335.653",
         "0.9995",
         "295072.21869",
         "75.716805379",
         "5.5788042896"
        ],
        [
         "1",
         "Not used",
         "Not used",
         "Not used",
         "Not used",
         "Not used",
         "Not used",
         "Not used",
         "Not used"
        ],
        [
         "2",
         "India",
         "IND",
         "2000",
         "1006300.297",
         "44.9416",
         "1728144.3748",
         "64.575551328",
         "14.072205773"
        ],
        [
         "3",
         "Not used",
         "Not used",
         "Not used",
         "Not used",
         "Not used",
         "Not used",
         "Not used",
         "Not used"
        ],
        [
         "4",
         "Not used",
         "Not used",
         "Not used",
         "Not used",
         "Not used",
         "Not used",
         "Not used",
         "Not used"
        ],
        [
         "5",
         "South Africa",
         "ZAF",
         "2000",
         "45064.098",
         "6.93983",
         "227242.36949",
         "72.718710427",
         "5.7265463933"
        ],
        [
         "6",
         "United States",
         "USA",
         "2000",
         "282171.957",
         "1.0",
         "9898700.0",
         "72.347054303",
         "6.0324539789"
        ],
        [
         "7",
         "Not used",
         "Not used",
         "Not used",
         "Not used",
         "Not used",
         "Not used",
         "Not used",
         "Not used"
        ]
       ],
       "shape": {
        "columns": 8,
        "rows": 8
       }
      },
      "text/html": [
       "<div>\n",
       "<style scoped>\n",
       "    .dataframe tbody tr th:only-of-type {\n",
       "        vertical-align: middle;\n",
       "    }\n",
       "\n",
       "    .dataframe tbody tr th {\n",
       "        vertical-align: top;\n",
       "    }\n",
       "\n",
       "    .dataframe thead th {\n",
       "        text-align: right;\n",
       "    }\n",
       "</style>\n",
       "<table border=\"1\" class=\"dataframe\">\n",
       "  <thead>\n",
       "    <tr style=\"text-align: right;\">\n",
       "      <th></th>\n",
       "      <th>country</th>\n",
       "      <th>country isocode</th>\n",
       "      <th>year</th>\n",
       "      <th>POP</th>\n",
       "      <th>XRAT</th>\n",
       "      <th>tcgdp</th>\n",
       "      <th>cc</th>\n",
       "      <th>cg</th>\n",
       "    </tr>\n",
       "  </thead>\n",
       "  <tbody>\n",
       "    <tr>\n",
       "      <th>0</th>\n",
       "      <td>Argentina</td>\n",
       "      <td>ARG</td>\n",
       "      <td>2000</td>\n",
       "      <td>37335.653</td>\n",
       "      <td>0.9995</td>\n",
       "      <td>295072.21869</td>\n",
       "      <td>75.716805</td>\n",
       "      <td>5.578804</td>\n",
       "    </tr>\n",
       "    <tr>\n",
       "      <th>1</th>\n",
       "      <td>Not used</td>\n",
       "      <td>Not used</td>\n",
       "      <td>Not used</td>\n",
       "      <td>Not used</td>\n",
       "      <td>Not used</td>\n",
       "      <td>Not used</td>\n",
       "      <td>Not used</td>\n",
       "      <td>Not used</td>\n",
       "    </tr>\n",
       "    <tr>\n",
       "      <th>2</th>\n",
       "      <td>India</td>\n",
       "      <td>IND</td>\n",
       "      <td>2000</td>\n",
       "      <td>1006300.297</td>\n",
       "      <td>44.9416</td>\n",
       "      <td>1728144.3748</td>\n",
       "      <td>64.575551</td>\n",
       "      <td>14.072206</td>\n",
       "    </tr>\n",
       "    <tr>\n",
       "      <th>3</th>\n",
       "      <td>Not used</td>\n",
       "      <td>Not used</td>\n",
       "      <td>Not used</td>\n",
       "      <td>Not used</td>\n",
       "      <td>Not used</td>\n",
       "      <td>Not used</td>\n",
       "      <td>Not used</td>\n",
       "      <td>Not used</td>\n",
       "    </tr>\n",
       "    <tr>\n",
       "      <th>4</th>\n",
       "      <td>Not used</td>\n",
       "      <td>Not used</td>\n",
       "      <td>Not used</td>\n",
       "      <td>Not used</td>\n",
       "      <td>Not used</td>\n",
       "      <td>Not used</td>\n",
       "      <td>Not used</td>\n",
       "      <td>Not used</td>\n",
       "    </tr>\n",
       "    <tr>\n",
       "      <th>5</th>\n",
       "      <td>South Africa</td>\n",
       "      <td>ZAF</td>\n",
       "      <td>2000</td>\n",
       "      <td>45064.098</td>\n",
       "      <td>6.93983</td>\n",
       "      <td>227242.36949</td>\n",
       "      <td>72.71871</td>\n",
       "      <td>5.726546</td>\n",
       "    </tr>\n",
       "    <tr>\n",
       "      <th>6</th>\n",
       "      <td>United States</td>\n",
       "      <td>USA</td>\n",
       "      <td>2000</td>\n",
       "      <td>282171.957</td>\n",
       "      <td>1.0</td>\n",
       "      <td>9898700.0</td>\n",
       "      <td>72.347054</td>\n",
       "      <td>6.032454</td>\n",
       "    </tr>\n",
       "    <tr>\n",
       "      <th>7</th>\n",
       "      <td>Not used</td>\n",
       "      <td>Not used</td>\n",
       "      <td>Not used</td>\n",
       "      <td>Not used</td>\n",
       "      <td>Not used</td>\n",
       "      <td>Not used</td>\n",
       "      <td>Not used</td>\n",
       "      <td>Not used</td>\n",
       "    </tr>\n",
       "  </tbody>\n",
       "</table>\n",
       "</div>"
      ],
      "text/plain": [
       "         country country isocode      year          POP      XRAT  \\\n",
       "0      Argentina             ARG      2000    37335.653    0.9995   \n",
       "1       Not used        Not used  Not used     Not used  Not used   \n",
       "2          India             IND      2000  1006300.297   44.9416   \n",
       "3       Not used        Not used  Not used     Not used  Not used   \n",
       "4       Not used        Not used  Not used     Not used  Not used   \n",
       "5   South Africa             ZAF      2000    45064.098   6.93983   \n",
       "6  United States             USA      2000   282171.957       1.0   \n",
       "7       Not used        Not used  Not used     Not used  Not used   \n",
       "\n",
       "          tcgdp         cc         cg  \n",
       "0  295072.21869  75.716805   5.578804  \n",
       "1      Not used   Not used   Not used  \n",
       "2  1728144.3748  64.575551  14.072206  \n",
       "3      Not used   Not used   Not used  \n",
       "4      Not used   Not used   Not used  \n",
       "5  227242.36949   72.71871   5.726546  \n",
       "6     9898700.0  72.347054   6.032454  \n",
       "7      Not used   Not used   Not used  "
      ]
     },
     "execution_count": 8,
     "metadata": {},
     "output_type": "execute_result"
    }
   ],
   "source": [
    "df.where(df.POP >= 20000, \"Not used\")"
   ]
  },
  {
   "cell_type": "code",
   "execution_count": 25,
   "metadata": {},
   "outputs": [
    {
     "data": {
      "application/vnd.microsoft.datawrangler.viewer.v0+json": {
       "columns": [
        {
         "name": "country",
         "rawType": "object",
         "type": "string"
        },
        {
         "name": "POP",
         "rawType": "float64",
         "type": "float"
        },
        {
         "name": "tcgdp",
         "rawType": "float64",
         "type": "float"
        }
       ],
       "conversionMethod": "pd.DataFrame",
       "ref": "af27d8e2-2bcd-42d7-b218-fad8b7e291f4",
       "rows": [
        [
         "Argentina",
         "37335.653",
         "295072.21869"
        ],
        [
         "Australia",
         "19053.186",
         "541804.6521"
        ],
        [
         "India",
         "1006300.297",
         "1728144.3748"
        ],
        [
         "Israel",
         "6114.57",
         "129253.89423"
        ],
        [
         "Malawi",
         "11801.505",
         "5026.2217836"
        ],
        [
         "South Africa",
         "45064.098",
         "227242.36949"
        ],
        [
         "United States",
         "282171.957",
         "9898700.0"
        ],
        [
         "Uruguay",
         "3219.793",
         "25255.961693"
        ]
       ],
       "shape": {
        "columns": 2,
        "rows": 8
       }
      },
      "text/html": [
       "<div>\n",
       "<style scoped>\n",
       "    .dataframe tbody tr th:only-of-type {\n",
       "        vertical-align: middle;\n",
       "    }\n",
       "\n",
       "    .dataframe tbody tr th {\n",
       "        vertical-align: top;\n",
       "    }\n",
       "\n",
       "    .dataframe thead th {\n",
       "        text-align: right;\n",
       "    }\n",
       "</style>\n",
       "<table border=\"1\" class=\"dataframe\">\n",
       "  <thead>\n",
       "    <tr style=\"text-align: right;\">\n",
       "      <th></th>\n",
       "      <th>POP</th>\n",
       "      <th>tcgdp</th>\n",
       "    </tr>\n",
       "    <tr>\n",
       "      <th>country</th>\n",
       "      <th></th>\n",
       "      <th></th>\n",
       "    </tr>\n",
       "  </thead>\n",
       "  <tbody>\n",
       "    <tr>\n",
       "      <th>Argentina</th>\n",
       "      <td>37335.653</td>\n",
       "      <td>2.950722e+05</td>\n",
       "    </tr>\n",
       "    <tr>\n",
       "      <th>Australia</th>\n",
       "      <td>19053.186</td>\n",
       "      <td>5.418047e+05</td>\n",
       "    </tr>\n",
       "    <tr>\n",
       "      <th>India</th>\n",
       "      <td>1006300.297</td>\n",
       "      <td>1.728144e+06</td>\n",
       "    </tr>\n",
       "    <tr>\n",
       "      <th>Israel</th>\n",
       "      <td>6114.570</td>\n",
       "      <td>1.292539e+05</td>\n",
       "    </tr>\n",
       "    <tr>\n",
       "      <th>Malawi</th>\n",
       "      <td>11801.505</td>\n",
       "      <td>5.026222e+03</td>\n",
       "    </tr>\n",
       "    <tr>\n",
       "      <th>South Africa</th>\n",
       "      <td>45064.098</td>\n",
       "      <td>2.272424e+05</td>\n",
       "    </tr>\n",
       "    <tr>\n",
       "      <th>United States</th>\n",
       "      <td>282171.957</td>\n",
       "      <td>9.898700e+06</td>\n",
       "    </tr>\n",
       "    <tr>\n",
       "      <th>Uruguay</th>\n",
       "      <td>3219.793</td>\n",
       "      <td>2.525596e+04</td>\n",
       "    </tr>\n",
       "  </tbody>\n",
       "</table>\n",
       "</div>"
      ],
      "text/plain": [
       "                       POP         tcgdp\n",
       "country                                 \n",
       "Argentina        37335.653  2.950722e+05\n",
       "Australia        19053.186  5.418047e+05\n",
       "India          1006300.297  1.728144e+06\n",
       "Israel            6114.570  1.292539e+05\n",
       "Malawi           11801.505  5.026222e+03\n",
       "South Africa     45064.098  2.272424e+05\n",
       "United States   282171.957  9.898700e+06\n",
       "Uruguay           3219.793  2.525596e+04"
      ]
     },
     "execution_count": 25,
     "metadata": {},
     "output_type": "execute_result"
    }
   ],
   "source": [
    "df = df[['country', 'POP', 'tcgdp']]\n",
    "df = df.set_index('country')\n",
    "df"
   ]
  },
  {
   "cell_type": "code",
   "execution_count": 26,
   "metadata": {},
   "outputs": [
    {
     "data": {
      "application/vnd.microsoft.datawrangler.viewer.v0+json": {
       "columns": [
        {
         "name": "country",
         "rawType": "object",
         "type": "string"
        },
        {
         "name": "population",
         "rawType": "float64",
         "type": "float"
        },
        {
         "name": "total GDP",
         "rawType": "float64",
         "type": "float"
        }
       ],
       "conversionMethod": "pd.DataFrame",
       "ref": "44f1e179-ce00-4d62-aa8f-323411dea25c",
       "rows": [
        [
         "Argentina",
         "37335.653",
         "295072.21869"
        ],
        [
         "Australia",
         "19053.186",
         "541804.6521"
        ],
        [
         "India",
         "1006300.297",
         "1728144.3748"
        ],
        [
         "Israel",
         "6114.57",
         "129253.89423"
        ],
        [
         "Malawi",
         "11801.505",
         "5026.2217836"
        ],
        [
         "South Africa",
         "45064.098",
         "227242.36949"
        ],
        [
         "United States",
         "282171.957",
         "9898700.0"
        ],
        [
         "Uruguay",
         "3219.793",
         "25255.961693"
        ]
       ],
       "shape": {
        "columns": 2,
        "rows": 8
       }
      },
      "text/html": [
       "<div>\n",
       "<style scoped>\n",
       "    .dataframe tbody tr th:only-of-type {\n",
       "        vertical-align: middle;\n",
       "    }\n",
       "\n",
       "    .dataframe tbody tr th {\n",
       "        vertical-align: top;\n",
       "    }\n",
       "\n",
       "    .dataframe thead th {\n",
       "        text-align: right;\n",
       "    }\n",
       "</style>\n",
       "<table border=\"1\" class=\"dataframe\">\n",
       "  <thead>\n",
       "    <tr style=\"text-align: right;\">\n",
       "      <th></th>\n",
       "      <th>population</th>\n",
       "      <th>total GDP</th>\n",
       "    </tr>\n",
       "    <tr>\n",
       "      <th>country</th>\n",
       "      <th></th>\n",
       "      <th></th>\n",
       "    </tr>\n",
       "  </thead>\n",
       "  <tbody>\n",
       "    <tr>\n",
       "      <th>Argentina</th>\n",
       "      <td>37335.653</td>\n",
       "      <td>2.950722e+05</td>\n",
       "    </tr>\n",
       "    <tr>\n",
       "      <th>Australia</th>\n",
       "      <td>19053.186</td>\n",
       "      <td>5.418047e+05</td>\n",
       "    </tr>\n",
       "    <tr>\n",
       "      <th>India</th>\n",
       "      <td>1006300.297</td>\n",
       "      <td>1.728144e+06</td>\n",
       "    </tr>\n",
       "    <tr>\n",
       "      <th>Israel</th>\n",
       "      <td>6114.570</td>\n",
       "      <td>1.292539e+05</td>\n",
       "    </tr>\n",
       "    <tr>\n",
       "      <th>Malawi</th>\n",
       "      <td>11801.505</td>\n",
       "      <td>5.026222e+03</td>\n",
       "    </tr>\n",
       "    <tr>\n",
       "      <th>South Africa</th>\n",
       "      <td>45064.098</td>\n",
       "      <td>2.272424e+05</td>\n",
       "    </tr>\n",
       "    <tr>\n",
       "      <th>United States</th>\n",
       "      <td>282171.957</td>\n",
       "      <td>9.898700e+06</td>\n",
       "    </tr>\n",
       "    <tr>\n",
       "      <th>Uruguay</th>\n",
       "      <td>3219.793</td>\n",
       "      <td>2.525596e+04</td>\n",
       "    </tr>\n",
       "  </tbody>\n",
       "</table>\n",
       "</div>"
      ],
      "text/plain": [
       "                population     total GDP\n",
       "country                                 \n",
       "Argentina        37335.653  2.950722e+05\n",
       "Australia        19053.186  5.418047e+05\n",
       "India          1006300.297  1.728144e+06\n",
       "Israel            6114.570  1.292539e+05\n",
       "Malawi           11801.505  5.026222e+03\n",
       "South Africa     45064.098  2.272424e+05\n",
       "United States   282171.957  9.898700e+06\n",
       "Uruguay           3219.793  2.525596e+04"
      ]
     },
     "execution_count": 26,
     "metadata": {},
     "output_type": "execute_result"
    }
   ],
   "source": [
    "df.columns = 'population', 'total GDP'\n",
    "df"
   ]
  },
  {
   "cell_type": "code",
   "execution_count": 27,
   "metadata": {},
   "outputs": [
    {
     "data": {
      "application/vnd.microsoft.datawrangler.viewer.v0+json": {
       "columns": [
        {
         "name": "country",
         "rawType": "object",
         "type": "string"
        },
        {
         "name": "population",
         "rawType": "float64",
         "type": "float"
        },
        {
         "name": "total GDP",
         "rawType": "float64",
         "type": "float"
        }
       ],
       "conversionMethod": "pd.DataFrame",
       "ref": "d426efe7-6de1-47ad-af6c-6f906bb87155",
       "rows": [
        [
         "Argentina",
         "37335653.0",
         "295072218690.0"
        ],
        [
         "Australia",
         "19053186.0",
         "541804652099.99994"
        ],
        [
         "India",
         "1006300297.0",
         "1728144374800.0"
        ],
        [
         "Israel",
         "6114570.0",
         "129253894230.0"
        ],
        [
         "Malawi",
         "11801505.0",
         "5026221783.6"
        ],
        [
         "South Africa",
         "45064098.0",
         "227242369490.0"
        ],
        [
         "United States",
         "282171957.0",
         "9898700000000.0"
        ],
        [
         "Uruguay",
         "3219793.0",
         "25255961693.0"
        ]
       ],
       "shape": {
        "columns": 2,
        "rows": 8
       }
      },
      "text/html": [
       "<div>\n",
       "<style scoped>\n",
       "    .dataframe tbody tr th:only-of-type {\n",
       "        vertical-align: middle;\n",
       "    }\n",
       "\n",
       "    .dataframe tbody tr th {\n",
       "        vertical-align: top;\n",
       "    }\n",
       "\n",
       "    .dataframe thead th {\n",
       "        text-align: right;\n",
       "    }\n",
       "</style>\n",
       "<table border=\"1\" class=\"dataframe\">\n",
       "  <thead>\n",
       "    <tr style=\"text-align: right;\">\n",
       "      <th></th>\n",
       "      <th>population</th>\n",
       "      <th>total GDP</th>\n",
       "    </tr>\n",
       "    <tr>\n",
       "      <th>country</th>\n",
       "      <th></th>\n",
       "      <th></th>\n",
       "    </tr>\n",
       "  </thead>\n",
       "  <tbody>\n",
       "    <tr>\n",
       "      <th>Argentina</th>\n",
       "      <td>3.733565e+07</td>\n",
       "      <td>2.950722e+11</td>\n",
       "    </tr>\n",
       "    <tr>\n",
       "      <th>Australia</th>\n",
       "      <td>1.905319e+07</td>\n",
       "      <td>5.418047e+11</td>\n",
       "    </tr>\n",
       "    <tr>\n",
       "      <th>India</th>\n",
       "      <td>1.006300e+09</td>\n",
       "      <td>1.728144e+12</td>\n",
       "    </tr>\n",
       "    <tr>\n",
       "      <th>Israel</th>\n",
       "      <td>6.114570e+06</td>\n",
       "      <td>1.292539e+11</td>\n",
       "    </tr>\n",
       "    <tr>\n",
       "      <th>Malawi</th>\n",
       "      <td>1.180150e+07</td>\n",
       "      <td>5.026222e+09</td>\n",
       "    </tr>\n",
       "    <tr>\n",
       "      <th>South Africa</th>\n",
       "      <td>4.506410e+07</td>\n",
       "      <td>2.272424e+11</td>\n",
       "    </tr>\n",
       "    <tr>\n",
       "      <th>United States</th>\n",
       "      <td>2.821720e+08</td>\n",
       "      <td>9.898700e+12</td>\n",
       "    </tr>\n",
       "    <tr>\n",
       "      <th>Uruguay</th>\n",
       "      <td>3.219793e+06</td>\n",
       "      <td>2.525596e+10</td>\n",
       "    </tr>\n",
       "  </tbody>\n",
       "</table>\n",
       "</div>"
      ],
      "text/plain": [
       "                 population     total GDP\n",
       "country                                  \n",
       "Argentina      3.733565e+07  2.950722e+11\n",
       "Australia      1.905319e+07  5.418047e+11\n",
       "India          1.006300e+09  1.728144e+12\n",
       "Israel         6.114570e+06  1.292539e+11\n",
       "Malawi         1.180150e+07  5.026222e+09\n",
       "South Africa   4.506410e+07  2.272424e+11\n",
       "United States  2.821720e+08  9.898700e+12\n",
       "Uruguay        3.219793e+06  2.525596e+10"
      ]
     },
     "execution_count": 27,
     "metadata": {},
     "output_type": "execute_result"
    }
   ],
   "source": [
    "df['total GDP'] = df['total GDP'] * 1000000\n",
    "df['population'] = df['population'] * 1000\n",
    "df\n"
   ]
  },
  {
   "cell_type": "code",
   "execution_count": 28,
   "metadata": {},
   "outputs": [
    {
     "data": {
      "application/vnd.microsoft.datawrangler.viewer.v0+json": {
       "columns": [
        {
         "name": "country",
         "rawType": "object",
         "type": "string"
        },
        {
         "name": "population",
         "rawType": "float64",
         "type": "float"
        },
        {
         "name": "total GDP",
         "rawType": "float64",
         "type": "float"
        },
        {
         "name": "GDPpc",
         "rawType": "float64",
         "type": "float"
        }
       ],
       "conversionMethod": "pd.DataFrame",
       "ref": "37e2998a-42ae-441a-80e4-f5b6cc2a639b",
       "rows": [
        [
         "Argentina",
         "37335653.0",
         "295072218690.0",
         "7903.229084810703"
        ],
        [
         "Australia",
         "19053186.0",
         "541804652099.99994",
         "28436.433261082948"
        ],
        [
         "India",
         "1006300297.0",
         "1728144374800.0",
         "1717.3247190247027"
        ],
        [
         "Israel",
         "6114570.0",
         "129253894230.0",
         "21138.67274886051"
        ],
        [
         "Malawi",
         "11801505.0",
         "5026221783.6",
         "425.8966787371611"
        ],
        [
         "South Africa",
         "45064098.0",
         "227242369490.0",
         "5042.647685747533"
        ],
        [
         "United States",
         "282171957.0",
         "9898700000000.0",
         "35080.38185382114"
        ],
        [
         "Uruguay",
         "3219793.0",
         "25255961693.0",
         "7843.970619539828"
        ]
       ],
       "shape": {
        "columns": 3,
        "rows": 8
       }
      },
      "text/html": [
       "<div>\n",
       "<style scoped>\n",
       "    .dataframe tbody tr th:only-of-type {\n",
       "        vertical-align: middle;\n",
       "    }\n",
       "\n",
       "    .dataframe tbody tr th {\n",
       "        vertical-align: top;\n",
       "    }\n",
       "\n",
       "    .dataframe thead th {\n",
       "        text-align: right;\n",
       "    }\n",
       "</style>\n",
       "<table border=\"1\" class=\"dataframe\">\n",
       "  <thead>\n",
       "    <tr style=\"text-align: right;\">\n",
       "      <th></th>\n",
       "      <th>population</th>\n",
       "      <th>total GDP</th>\n",
       "      <th>GDPpc</th>\n",
       "    </tr>\n",
       "    <tr>\n",
       "      <th>country</th>\n",
       "      <th></th>\n",
       "      <th></th>\n",
       "      <th></th>\n",
       "    </tr>\n",
       "  </thead>\n",
       "  <tbody>\n",
       "    <tr>\n",
       "      <th>Argentina</th>\n",
       "      <td>3.733565e+07</td>\n",
       "      <td>2.950722e+11</td>\n",
       "      <td>7903.229085</td>\n",
       "    </tr>\n",
       "    <tr>\n",
       "      <th>Australia</th>\n",
       "      <td>1.905319e+07</td>\n",
       "      <td>5.418047e+11</td>\n",
       "      <td>28436.433261</td>\n",
       "    </tr>\n",
       "    <tr>\n",
       "      <th>India</th>\n",
       "      <td>1.006300e+09</td>\n",
       "      <td>1.728144e+12</td>\n",
       "      <td>1717.324719</td>\n",
       "    </tr>\n",
       "    <tr>\n",
       "      <th>Israel</th>\n",
       "      <td>6.114570e+06</td>\n",
       "      <td>1.292539e+11</td>\n",
       "      <td>21138.672749</td>\n",
       "    </tr>\n",
       "    <tr>\n",
       "      <th>Malawi</th>\n",
       "      <td>1.180150e+07</td>\n",
       "      <td>5.026222e+09</td>\n",
       "      <td>425.896679</td>\n",
       "    </tr>\n",
       "    <tr>\n",
       "      <th>South Africa</th>\n",
       "      <td>4.506410e+07</td>\n",
       "      <td>2.272424e+11</td>\n",
       "      <td>5042.647686</td>\n",
       "    </tr>\n",
       "    <tr>\n",
       "      <th>United States</th>\n",
       "      <td>2.821720e+08</td>\n",
       "      <td>9.898700e+12</td>\n",
       "      <td>35080.381854</td>\n",
       "    </tr>\n",
       "    <tr>\n",
       "      <th>Uruguay</th>\n",
       "      <td>3.219793e+06</td>\n",
       "      <td>2.525596e+10</td>\n",
       "      <td>7843.970620</td>\n",
       "    </tr>\n",
       "  </tbody>\n",
       "</table>\n",
       "</div>"
      ],
      "text/plain": [
       "                 population     total GDP         GDPpc\n",
       "country                                                \n",
       "Argentina      3.733565e+07  2.950722e+11   7903.229085\n",
       "Australia      1.905319e+07  5.418047e+11  28436.433261\n",
       "India          1.006300e+09  1.728144e+12   1717.324719\n",
       "Israel         6.114570e+06  1.292539e+11  21138.672749\n",
       "Malawi         1.180150e+07  5.026222e+09    425.896679\n",
       "South Africa   4.506410e+07  2.272424e+11   5042.647686\n",
       "United States  2.821720e+08  9.898700e+12  35080.381854\n",
       "Uruguay        3.219793e+06  2.525596e+10   7843.970620"
      ]
     },
     "execution_count": 28,
     "metadata": {},
     "output_type": "execute_result"
    }
   ],
   "source": [
    "df['GDPpc'] = df['total GDP']/df['population']\n",
    "df"
   ]
  },
  {
   "cell_type": "code",
   "execution_count": 34,
   "metadata": {},
   "outputs": [
    {
     "data": {
      "image/png": "[encoded data removed]",
      "text/plain": [
       "<Figure size 1000x400 with 1 Axes>"
      ]
     },
     "metadata": {},
     "output_type": "display_data"
    }
   ],
   "source": [
    "fig, ax = plt.subplots(figsize=(10,4))\n",
    "ax.bar(df.index, df['GDPpc'])\n",
    "ax.set_xlabel('country')\n",
    "ax.set_ylabel('GDP per capita')\n",
    "plt.show()"
   ]
  },
  {
   "cell_type": "code",
   "execution_count": 36,
   "metadata": {},
   "outputs": [
    {
     "data": {
      "image/png": "[encoded data removed]",
      "text/plain": [
       "<Figure size 1000x400 with 1 Axes>"
      ]
     },
     "metadata": {},
     "output_type": "display_data"
    }
   ],
   "source": [
    "df = df.sort_values(by='GDPpc', ascending=False)\n",
    "fig, ax = plt.subplots(figsize=(10,4))\n",
    "ax.bar(df.index, df['GDPpc'])\n",
    "ax.set_xlabel('country')\n",
    "ax.set_ylabel('GDP per capita')\n",
    "plt.show()"
   ]
  },
  {
   "cell_type": "markdown",
   "metadata": {},
   "source": [
    "## Using requests to get datasets"
   ]
  },
  {
   "cell_type": "code",
   "execution_count": 39,
   "metadata": {},
   "outputs": [],
   "source": [
    "r = requests.get('https://fred.stlouisfed.org/graph/fredgraph.csv?bgcolor=%23e1e9f0&chart_type=line&drp=0&fo=open%20sans&graph_bgcolor=%23ffffff&height=450&mode=fred&recession_bars=on&txtcolor=%23444444&ts=12&tts=12&width=1318&nt=0&thu=0&trc=0&show_legend=yes&show_axis_titles=yes&show_tooltip=yes&id=UNRATE&scale=left&cosd=1948-01-01&coed=2024-06-01&line_color=%234572a7&link_values=false&line_style=solid&mark_type=none&mw=3&lw=2&ost=-99999&oet=99999&mma=0&fml=a&fq=Monthly&fam=avg&fgst=lin&fgsnd=2020-02-01&line_index=1&transformation=lin&vintage_date=2024-07-29&revision_date=2024-07-29&nd=1948-01-01')"
   ]
  },
  {
   "cell_type": "code",
   "execution_count": 43,
   "metadata": {},
   "outputs": [],
   "source": [
    "url = 'https://fred.stlouisfed.org/graph/fredgraph.csv?bgcolor=%23e1e9f0&chart_type=line&drp=0&fo=open%20sans&graph_bgcolor=%23ffffff&height=450&mode=fred&recession_bars=on&txtcolor=%23444444&ts=12&tts=12&width=1318&nt=0&thu=0&trc=0&show_legend=yes&show_axis_titles=yes&show_tooltip=yes&id=UNRATE&scale=left&cosd=1948-01-01&coed=2024-06-01&line_color=%234572a7&link_values=false&line_style=solid&mark_type=none&mw=3&lw=2&ost=-99999&oet=99999&mma=0&fml=a&fq=Monthly&fam=avg&fgst=lin&fgsnd=2020-02-01&line_index=1&transformation=lin&vintage_date=2024-07-29&revision_date=2024-07-29&nd=1948-01-01'\n",
    "source = requests.get(url).content.decode().split(\"\\n\")"
   ]
  },
  {
   "cell_type": "code",
   "execution_count": null,
   "metadata": {},
   "outputs": [
    {
     "data": {
      "text/plain": [
       "observation_date\n",
       "1948-01-01    3.4\n",
       "1948-02-01    3.8\n",
       "1948-03-01    4.0\n",
       "1948-04-01    3.9\n",
       "1948-05-01    3.5\n",
       "             ... \n",
       "2024-02-01    3.9\n",
       "2024-03-01    3.9\n",
       "2024-04-01    3.9\n",
       "2024-05-01    4.0\n",
       "2024-06-01    4.1\n",
       "Name: UNRATE, Length: 918, dtype: float64"
      ]
     },
     "execution_count": 48,
     "metadata": {},
     "output_type": "execute_result"
    }
   ],
   "source": [
    "data = pd.read_csv(url,index_col=0, parse_dates = True)\n",
    "data.iloc[:,0] # view all rows, first column"
   ]
  },
  {
   "cell_type": "code",
   "execution_count": 55,
   "metadata": {},
   "outputs": [
    {
     "data": {
      "application/vnd.microsoft.datawrangler.viewer.v0+json": {
       "columns": [
        {
         "name": "observation_date",
         "rawType": "datetime64[ns]",
         "type": "datetime"
        },
        {
         "name": "UNRATE",
         "rawType": "float64",
         "type": "float"
        }
       ],
       "conversionMethod": "pd.DataFrame",
       "ref": "d026f151-8f3a-470d-b3cc-a0b7a79ff07a",
       "rows": [
        [
         "2000-01-01 00:00:00",
         "4.0"
        ],
        [
         "2000-02-01 00:00:00",
         "4.1"
        ],
        [
         "2000-03-01 00:00:00",
         "4.0"
        ],
        [
         "2000-04-01 00:00:00",
         "3.8"
        ],
        [
         "2000-05-01 00:00:00",
         "4.0"
        ],
        [
         "2000-06-01 00:00:00",
         "4.0"
        ],
        [
         "2000-07-01 00:00:00",
         "4.0"
        ],
        [
         "2000-08-01 00:00:00",
         "4.1"
        ],
        [
         "2000-09-01 00:00:00",
         "3.9"
        ],
        [
         "2000-10-01 00:00:00",
         "3.9"
        ],
        [
         "2000-11-01 00:00:00",
         "3.9"
        ],
        [
         "2000-12-01 00:00:00",
         "3.9"
        ],
        [
         "2001-01-01 00:00:00",
         "4.2"
        ],
        [
         "2001-02-01 00:00:00",
         "4.2"
        ],
        [
         "2001-03-01 00:00:00",
         "4.3"
        ],
        [
         "2001-04-01 00:00:00",
         "4.4"
        ],
        [
         "2001-05-01 00:00:00",
         "4.3"
        ],
        [
         "2001-06-01 00:00:00",
         "4.5"
        ],
        [
         "2001-07-01 00:00:00",
         "4.6"
        ],
        [
         "2001-08-01 00:00:00",
         "4.9"
        ],
        [
         "2001-09-01 00:00:00",
         "5.0"
        ],
        [
         "2001-10-01 00:00:00",
         "5.3"
        ],
        [
         "2001-11-01 00:00:00",
         "5.5"
        ],
        [
         "2001-12-01 00:00:00",
         "5.7"
        ],
        [
         "2002-01-01 00:00:00",
         "5.7"
        ],
        [
         "2002-02-01 00:00:00",
         "5.7"
        ],
        [
         "2002-03-01 00:00:00",
         "5.7"
        ],
        [
         "2002-04-01 00:00:00",
         "5.9"
        ],
        [
         "2002-05-01 00:00:00",
         "5.8"
        ],
        [
         "2002-06-01 00:00:00",
         "5.8"
        ],
        [
         "2002-07-01 00:00:00",
         "5.8"
        ],
        [
         "2002-08-01 00:00:00",
         "5.7"
        ],
        [
         "2002-09-01 00:00:00",
         "5.7"
        ],
        [
         "2002-10-01 00:00:00",
         "5.7"
        ],
        [
         "2002-11-01 00:00:00",
         "5.9"
        ],
        [
         "2002-12-01 00:00:00",
         "6.0"
        ],
        [
         "2003-01-01 00:00:00",
         "5.8"
        ],
        [
         "2003-02-01 00:00:00",
         "5.9"
        ],
        [
         "2003-03-01 00:00:00",
         "5.9"
        ],
        [
         "2003-04-01 00:00:00",
         "6.0"
        ],
        [
         "2003-05-01 00:00:00",
         "6.1"
        ],
        [
         "2003-06-01 00:00:00",
         "6.3"
        ],
        [
         "2003-07-01 00:00:00",
         "6.2"
        ],
        [
         "2003-08-01 00:00:00",
         "6.1"
        ],
        [
         "2003-09-01 00:00:00",
         "6.1"
        ],
        [
         "2003-10-01 00:00:00",
         "6.0"
        ],
        [
         "2003-11-01 00:00:00",
         "5.8"
        ],
        [
         "2003-12-01 00:00:00",
         "5.7"
        ],
        [
         "2004-01-01 00:00:00",
         "5.7"
        ],
        [
         "2004-02-01 00:00:00",
         "5.6"
        ]
       ],
       "shape": {
        "columns": 1,
        "rows": 294
       }
      },
      "text/html": [
       "<div>\n",
       "<style scoped>\n",
       "    .dataframe tbody tr th:only-of-type {\n",
       "        vertical-align: middle;\n",
       "    }\n",
       "\n",
       "    .dataframe tbody tr th {\n",
       "        vertical-align: top;\n",
       "    }\n",
       "\n",
       "    .dataframe thead th {\n",
       "        text-align: right;\n",
       "    }\n",
       "</style>\n",
       "<table border=\"1\" class=\"dataframe\">\n",
       "  <thead>\n",
       "    <tr style=\"text-align: right;\">\n",
       "      <th></th>\n",
       "      <th>UNRATE</th>\n",
       "    </tr>\n",
       "    <tr>\n",
       "      <th>observation_date</th>\n",
       "      <th></th>\n",
       "    </tr>\n",
       "  </thead>\n",
       "  <tbody>\n",
       "    <tr>\n",
       "      <th>2000-01-01</th>\n",
       "      <td>4.0</td>\n",
       "    </tr>\n",
       "    <tr>\n",
       "      <th>2000-02-01</th>\n",
       "      <td>4.1</td>\n",
       "    </tr>\n",
       "    <tr>\n",
       "      <th>2000-03-01</th>\n",
       "      <td>4.0</td>\n",
       "    </tr>\n",
       "    <tr>\n",
       "      <th>2000-04-01</th>\n",
       "      <td>3.8</td>\n",
       "    </tr>\n",
       "    <tr>\n",
       "      <th>2000-05-01</th>\n",
       "      <td>4.0</td>\n",
       "    </tr>\n",
       "    <tr>\n",
       "      <th>...</th>\n",
       "      <td>...</td>\n",
       "    </tr>\n",
       "    <tr>\n",
       "      <th>2024-02-01</th>\n",
       "      <td>3.9</td>\n",
       "    </tr>\n",
       "    <tr>\n",
       "      <th>2024-03-01</th>\n",
       "      <td>3.9</td>\n",
       "    </tr>\n",
       "    <tr>\n",
       "      <th>2024-04-01</th>\n",
       "      <td>3.9</td>\n",
       "    </tr>\n",
       "    <tr>\n",
       "      <th>2024-05-01</th>\n",
       "      <td>4.0</td>\n",
       "    </tr>\n",
       "    <tr>\n",
       "      <th>2024-06-01</th>\n",
       "      <td>4.1</td>\n",
       "    </tr>\n",
       "  </tbody>\n",
       "</table>\n",
       "<p>294 rows × 1 columns</p>\n",
       "</div>"
      ],
      "text/plain": [
       "                  UNRATE\n",
       "observation_date        \n",
       "2000-01-01           4.0\n",
       "2000-02-01           4.1\n",
       "2000-03-01           4.0\n",
       "2000-04-01           3.8\n",
       "2000-05-01           4.0\n",
       "...                  ...\n",
       "2024-02-01           3.9\n",
       "2024-03-01           3.9\n",
       "2024-04-01           3.9\n",
       "2024-05-01           4.0\n",
       "2024-06-01           4.1\n",
       "\n",
       "[294 rows x 1 columns]"
      ]
     },
     "execution_count": 55,
     "metadata": {},
     "output_type": "execute_result"
    }
   ],
   "source": [
    "data[\"2000\":\"2024\"]"
   ]
  },
  {
   "cell_type": "code",
   "execution_count": 67,
   "metadata": {},
   "outputs": [
    {
     "data": {
      "text/plain": [
       "[]"
      ]
     },
     "execution_count": 67,
     "metadata": {},
     "output_type": "execute_result"
    },
    {
     "data": {
      "image/png": "[encoded data removed]",
      "text/plain": [
       "<Figure size 640x480 with 1 Axes>"
      ]
     },
     "metadata": {},
     "output_type": "display_data"
    },
    {
     "data": {
      "image/png": "[encoded data removed]",
      "text/plain": [
       "<Figure size 640x480 with 1 Axes>"
      ]
     },
     "metadata": {},
     "output_type": "display_data"
    }
   ],
   "source": [
    "fig, ax = plt.subplots()\n",
    "ax.plot(data[\"UNRATE\"])\n",
    "plt.title(\"Unemployment rate from 1948 to 2024\")\n",
    "plt.xlabel(\"Year\")\n",
    "plt.ylabel(\"Unemployment rate (%)\")\n",
    "plt.plot()\n",
    "\n",
    "fig, ax1 = plt.subplots()\n",
    "ax1.plot(data[\"2000\":\"2024\"])\n",
    "plt.title(\"Unemployment rate from 2000 to 2024\")\n",
    "plt.xlabel(\"Year\")\n",
    "plt.ylabel(\"Unemployment rate (%)\")\n",
    "plt.plot()"
   ]
  },
  {
   "cell_type": "markdown",
   "metadata": {},
   "source": [
    "# Exercise 14.1\n",
    "\n",
    "Write a program to calculate the percentage change in price over 2021 for the given shares."
   ]
  },
  {
   "cell_type": "code",
   "execution_count": 130,
   "metadata": {},
   "outputs": [
    {
     "data": {
      "application/vnd.microsoft.datawrangler.viewer.v0+json": {
       "columns": [
        {
         "name": "index",
         "rawType": "datetime64[ns]",
         "type": "datetime"
        },
        {
         "name": "Intel",
         "rawType": "float64",
         "type": "float"
        },
        {
         "name": "Microsoft",
         "rawType": "float64",
         "type": "float"
        },
        {
         "name": "IBM",
         "rawType": "float64",
         "type": "float"
        },
        {
         "name": "BHP",
         "rawType": "float64",
         "type": "float"
        },
        {
         "name": "Toyota",
         "rawType": "float64",
         "type": "float"
        },
        {
         "name": "Apple",
         "rawType": "float64",
         "type": "float"
        },
        {
         "name": "Amazon",
         "rawType": "float64",
         "type": "float"
        },
        {
         "name": "Citigroup",
         "rawType": "float64",
         "type": "float"
        },
        {
         "name": "Qualcomm",
         "rawType": "float64",
         "type": "float"
        },
        {
         "name": "Coca-Cola",
         "rawType": "float64",
         "type": "float"
        },
        {
         "name": "Google",
         "rawType": "float64",
         "type": "float"
        }
       ],
       "conversionMethod": "pd.DataFrame",
       "ref": "c8859838-5693-4737-a25b-d07232ba818e",
       "rows": [
        [
         "2021-01-04 00:00:00",
         "44.9029426574707",
         "210.00201416015625",
         "98.1707763671875",
         "51.89421081542969",
         "137.7281951904297",
         "126.40524291992188",
         "159.3314971923828",
         "51.34541320800781",
         "135.5912322998047",
         "46.38884353637695",
         "86.00464630126953"
        ],
        [
         "2021-01-05 00:00:00",
         "45.75272750854492",
         "210.20462036132812",
         "99.91333770751953",
         "53.55081558227539",
         "137.8270263671875",
         "127.96809387207031",
         "160.92550659179688",
         "52.677284240722656",
         "139.17959594726562",
         "45.878875732421875",
         "86.63565826416016"
        ],
        [
         "2021-01-06 00:00:00",
         "46.1956901550293",
         "204.754150390625",
         "102.40840148925781",
         "55.253658294677734",
         "137.94381713867188",
         "123.66047668457031",
         "156.91900634765625",
         "55.708152770996094",
         "138.04742431640625",
         "44.41933822631836",
         "86.35547637939453"
        ],
        [
         "2021-01-07 00:00:00",
         "47.18107604980469",
         "210.58084106445312",
         "102.1707763671875",
         "56.386314392089844",
         "137.171142578125",
         "127.88021087646484",
         "158.10800170898438",
         "56.36555480957031",
         "142.1653594970703",
         "43.926963806152344",
         "88.94123077392578"
        ],
        [
         "2021-01-08 00:00:00",
         "46.69291687011719",
         "211.8638458251953",
         "101.80642700195312",
         "56.6020622253418",
         "137.3328857421875",
         "128.9839324951172",
         "159.13499450683594",
         "55.81060028076172",
         "143.02369689941406",
         "44.911720275878906",
         "89.93453216552734"
        ],
        [
         "2021-01-11 00:00:00",
         "46.59345626831055",
         "209.80909729003906",
         "101.84603881835938",
         "54.92233657836914",
         "137.8180389404297",
         "125.98519134521484",
         "155.7104949951172",
         "56.72414016723633",
         "142.5397186279297",
         "44.137977600097656",
         "87.91956329345703"
        ],
        [
         "2021-01-12 00:00:00",
         "48.130313873291016",
         "207.33946228027344",
         "102.34504699707031",
         "55.43857192993164",
         "136.34451293945312",
         "125.80938720703125",
         "156.04150390625",
         "56.92049026489258",
         "141.02403259277344",
         "44.05884552001953",
         "86.91583251953125"
        ],
        [
         "2021-01-13 00:00:00",
         "51.484249114990234",
         "208.6996612548828",
         "100.53117370605469",
         "54.76052474975586",
         "135.356201171875",
         "127.85086059570312",
         "158.29449462890625",
         "57.08271789550781",
         "143.73583984375",
         "44.102813720703125",
         "87.30648040771484"
        ],
        [
         "2021-01-14 00:00:00",
         "53.563499450683594",
         "205.49693298339844",
         "102.15493774414062",
         "56.92567443847656",
         "135.9761505126953",
         "125.91685485839844",
         "156.37350463867188",
         "58.918312072753906",
         "146.86769104003906",
         "43.28511047363281",
         "86.59883117675781"
        ],
        [
         "2021-01-15 00:00:00",
         "52.05378341674805",
         "205.1400146484375",
         "101.69551849365234",
         "54.406089782714844",
         "133.34361267089844",
         "124.18793487548828",
         "155.21249389648438",
         "54.83730697631836",
         "143.4345245361328",
         "42.819114685058594",
         "86.40027618408203"
        ],
        [
         "2021-01-19 00:00:00",
         "52.42442321777344",
         "208.79615783691406",
         "102.1945571899414",
         "55.045616149902344",
         "133.09205627441406",
         "124.86193084716797",
         "156.03799438476562",
         "54.37628173828125",
         "149.53387451171875",
         "42.65205001831055",
         "89.1208724975586"
        ],
        [
         "2021-01-20 00:00:00",
         "53.039161682128906",
         "216.4171600341797",
         "103.03414916992188",
         "56.07810592651367",
         "134.75421142578125",
         "128.96441650390625",
         "163.16900634765625",
         "54.0006217956543",
         "150.2917022705078",
         "42.80152893066406",
         "93.90025329589844"
        ],
        [
         "2021-01-21 00:00:00",
         "56.465423583984375",
         "217.02491760253906",
         "104.2777328491211",
         "55.731380462646484",
         "135.9761505126953",
         "133.69203186035156",
         "165.34950256347656",
         "52.822425842285156",
         "150.4286651611328",
         "43.0389289855957",
         "94.11671447753906"
        ],
        [
         "2021-01-22 00:00:00",
         "51.22207260131836",
         "217.97030639648438",
         "93.94896697998047",
         "55.315303802490234",
         "132.93031311035156",
         "135.8409423828125",
         "164.6114959716797",
         "52.36140060424805",
         "148.30123901367188",
         "42.63447952270508",
         "94.60440826416016"
        ],
        [
         "2021-01-25 00:00:00",
         "50.11915969848633",
         "221.42385864257812",
         "93.92520904541016",
         "54.8683967590332",
         "131.8251495361328",
         "139.6015625",
         "164.6999969482422",
         "51.70399475097656",
         "150.10906982421875",
         "42.88945770263672",
         "94.52230072021484"
        ],
        [
         "2021-01-26 00:00:00",
         "49.91122817993164",
         "224.12498474121094",
         "97.02224731445312",
         "55.323001861572266",
         "131.16030883789062",
         "139.83596801757812",
         "166.30650329589844",
         "52.002811431884766",
         "148.41989135742188",
         "43.3378791809082",
         "95.41009521484375"
        ],
        [
         "2021-01-27 00:00:00",
         "48.446712493896484",
         "224.6748504638672",
         "97.00639343261719",
         "53.273433685302734",
         "128.15939331054688",
         "138.76150512695312",
         "161.62899780273438",
         "50.71363067626953",
         "140.31182861328125",
         "42.66964340209961",
         "91.10796356201172"
        ],
        [
         "2021-01-28 00:00:00",
         "50.68869400024414",
         "230.49188232421875",
         "95.11331176757812",
         "53.4044189453125",
         "128.7523651123047",
         "133.90689086914062",
         "161.88099670410156",
         "51.516170501708984",
         "142.02842712402344",
         "43.214778900146484",
         "92.71635437011719"
        ],
        [
         "2021-01-29 00:00:00",
         "50.182437896728516",
         "223.76803588867188",
         "94.34500122070312",
         "51.45501708984375",
         "126.25460052490234",
         "128.8960418701172",
         "160.30999755859375",
         "49.93185043334961",
         "142.69497680664062",
         "42.33552551269531",
         "91.35430145263672"
        ],
        [
         "2021-02-01 00:00:00",
         "51.24919509887695",
         "231.18646240234375",
         "95.47767639160156",
         "52.65701675415039",
         "126.15576934814453",
         "131.02540588378906",
         "167.1439971923828",
         "50.31071090698242",
         "147.5342254638672",
         "42.62567901611328",
         "94.61933135986328"
        ],
        [
         "2021-02-02 00:00:00",
         "52.4334602355957",
         "231.05140686035156",
         "94.60639190673828",
         "51.709285736083984",
         "128.5906219482422",
         "131.85568237304688",
         "169.0",
         "51.300907135009766",
         "150.45608520507812",
         "43.04771423339844",
         "95.92118072509766"
        ],
        [
         "2021-02-03 00:00:00",
         "52.14418029785156",
         "234.41815185546875",
         "94.3529281616211",
         "51.663055419921875",
         "133.03811645507812",
         "130.83001708984375",
         "165.62649536132812",
         "52.60968780517578",
         "148.191650390625",
         "42.88066482543945",
         "103.01557922363281"
        ],
        [
         "2021-02-04 00:00:00",
         "53.470245361328125",
         "233.46311950683594",
         "95.8578872680664",
         "51.62452697753906",
         "132.99322509765625",
         "134.19993591308594",
         "166.5500030517578",
         "53.73765182495117",
         "135.10731506347656",
         "43.09169006347656",
         "102.63238525390625"
        ],
        [
         "2021-02-05 00:00:00",
         "52.915443420410156",
         "233.64639282226562",
         "96.46778869628906",
         "52.22553253173828",
         "135.54489135742188",
         "133.78416442871094",
         "167.6074981689453",
         "53.884033203125",
         "133.1624755859375",
         "43.65440368652344",
         "104.4054946899414"
        ],
        [
         "2021-02-08 00:00:00",
         "53.80677032470703",
         "233.9068603515625",
         "97.90937805175781",
         "53.66639709472656",
         "137.40472412109375",
         "133.93093872070312",
         "166.14700317382812",
         "54.80534744262695",
         "134.568603515625",
         "43.891788482666016",
         "104.15219116210938"
        ],
        [
         "2021-02-09 00:00:00",
         "53.46115493774414",
         "235.16099548339844",
         "98.00569152832031",
         "53.689510345458984",
         "138.36611938476562",
         "133.050537109375",
         "165.25",
         "54.348995208740234",
         "133.40899658203125",
         "43.6983642578125",
         "103.68439483642578"
        ],
        [
         "2021-02-10 00:00:00",
         "53.53391647338867",
         "234.24453735351562",
         "98.11808013916016",
         "53.78968048095703",
         "145.15863037109375",
         "132.44400024414062",
         "164.32899475097656",
         "54.77951431274414",
         "132.85202026367188",
         "43.61043167114258",
         "104.27510070800781"
        ],
        [
         "2021-02-11 00:00:00",
         "55.171043395996094",
         "235.85556030273438",
         "97.05052947998047",
         "53.72032928466797",
         "142.80462646484375",
         "132.18966674804688",
         "163.10650634765625",
         "54.41788101196289",
         "132.90679931640625",
         "44.22591018676758",
         "104.30048370361328"
        ],
        [
         "2021-02-12 00:00:00",
         "56.216983795166016",
         "236.33787536621094",
         "96.96222686767578",
         "54.22887420654297",
         "144.197265625",
         "132.42440795898438",
         "163.885498046875",
         "54.788116455078125",
         "135.11647033691406",
         "44.56880569458008",
         "104.70954132080078"
        ],
        [
         "2021-02-16 00:00:00",
         "56.8172607421875",
         "235.09344482421875",
         "96.37628173828125",
         "58.15850830078125",
         "140.59434509277344",
         "130.2918701171875",
         "163.44749450683594",
         "55.210044860839844",
         "134.3677520751953",
         "44.199520111083984",
         "105.59485626220703"
        ],
        [
         "2021-02-17 00:00:00",
         "56.25336456298828",
         "236.11831665039062",
         "96.2960205078125",
         "58.227848052978516",
         "140.63926696777344",
         "127.99299621582031",
         "165.4320068359375",
         "55.7611083984375",
         "132.16725158691406",
         "44.07643508911133",
         "105.9138412475586"
        ],
        [
         "2021-02-18 00:00:00",
         "56.035072326660156",
         "235.72189331054688",
         "96.90603637695312",
         "58.405059814453125",
         "137.8719482421875",
         "126.88760375976562",
         "166.4114990234375",
         "54.658966064453125",
         "131.40025329589844",
         "44.63915252685547",
         "105.3609619140625"
        ],
        [
         "2021-02-19 00:00:00",
         "57.30839538574219",
         "232.9952392578125",
         "95.50939178466797",
         "58.643924713134766",
         "137.96180725097656",
         "127.04409790039062",
         "162.4949951171875",
         "56.63936233520508",
         "132.3407440185547",
         "44.05884552001953",
         "104.5617446899414"
        ],
        [
         "2021-02-22 00:00:00",
         "55.21651840209961",
         "226.7490234375",
         "97.0103759765625",
         "59.75346755981445",
         "136.96450805664062",
         "123.25831604003906",
         "159.03700256347656",
         "56.415489196777344",
         "127.33706665039062",
         "44.516056060791016",
         "102.75728607177734"
        ],
        [
         "2021-02-23 00:00:00",
         "55.589412689208984",
         "225.5500946044922",
         "96.88997650146484",
         "60.60103225708008",
         "137.22503662109375",
         "123.12137603759766",
         "159.72500610351562",
         "57.465965270996094",
         "125.20046997070312",
         "44.436927795410156",
         "103.05488586425781"
        ],
        [
         "2021-02-24 00:00:00",
         "57.47210693359375",
         "226.78775024414062",
         "98.89665222167969",
         "61.44089889526367",
         "136.9734649658203",
         "122.6224594116211",
         "157.97650146484375",
         "59.0675048828125",
         "128.83448791503906",
         "44.586395263671875",
         "104.26465606689453"
        ],
        [
         "2021-02-25 00:00:00",
         "54.93456268310547",
         "221.41171264648438",
         "98.30267333984375",
         "60.13102340698242",
         "134.1072998046875",
         "118.35733795166016",
         "152.85800170898438",
         "58.04288101196289",
         "123.74867248535156",
         "44.111602783203125",
         "101.08919525146484"
        ],
        [
         "2021-02-26 00:00:00",
         "55.28017807006836",
         "224.68951416015625",
         "95.46124267578125",
         "58.48981475830078",
         "132.91233825683594",
         "118.62146759033203",
         "154.64649963378906",
         "56.725467681884766",
         "124.35131072998047",
         "43.074100494384766",
         "101.36289978027344"
        ],
        [
         "2021-03-01 00:00:00",
         "57.19015884399414",
         "229.09861755371094",
         "96.9140625",
         "60.685787200927734",
         "134.17919921875",
         "125.00938415527344",
         "157.3070068359375",
         "59.87688446044922",
         "127.36443328857422",
         "43.874210357666016",
         "103.58487701416016"
        ],
        [
         "2021-03-02 00:00:00",
         "55.69855499267578",
         "226.13018798828125",
         "96.5849609375",
         "61.71827697753906",
         "134.06240844726562",
         "122.39746856689453",
         "154.72650146484375",
         "59.33442306518555",
         "125.1274185180664",
         "44.050052642822266",
         "103.3027114868164"
        ],
        [
         "2021-03-03 00:00:00",
         "54.47980880737305",
         "220.029052734375",
         "98.21439361572266",
         "62.411746978759766",
         "133.72097778320312",
         "119.40406799316406",
         "150.25",
         "60.60016632080078",
         "120.78802490234375",
         "43.944549560546875",
         "100.85779571533203"
        ],
        [
         "2021-03-04 00:00:00",
         "53.0518684387207",
         "219.2265167236328",
         "96.40839385986328",
         "58.55916976928711",
         "131.94200134277344",
         "117.51605224609375",
         "148.8784942626953",
         "60.10935592651367",
         "117.24675750732422",
         "43.90937805175781",
         "101.97151947021484"
        ],
        [
         "2021-03-05 00:00:00",
         "55.243804931640625",
         "223.9353485107422",
         "98.5916519165039",
         "58.84425354003906",
         "133.44244384765625",
         "118.7779769897461",
         "150.0229949951172",
         "60.47099685668945",
         "119.03575134277344",
         "44.656734466552734",
         "104.93000793457031"
        ],
        [
         "2021-03-08 00:00:00",
         "54.4343376159668",
         "219.86465454101562",
         "100.18091583251953",
         "58.39735794067383",
         "133.18190002441406",
         "113.82808685302734",
         "147.59750366210938",
         "62.18449020385742",
         "113.02661895751953",
         "45.404083251953125",
         "100.73139190673828"
        ],
        [
         "2021-03-09 00:00:00",
         "56.99916076660156",
         "226.043212890625",
         "99.67523956298828",
         "58.27407455444336",
         "136.1558380126953",
         "118.45516967773438",
         "153.1425018310547",
         "61.125389099121094",
         "118.44860076904297",
         "44.71828079223633",
         "102.15116882324219"
        ],
        [
         "2021-03-10 00:00:00",
         "56.61717224121094",
         "224.72821044921875",
         "102.63706970214844",
         "56.22450637817383",
         "136.4613494873047",
         "117.36932373046875",
         "152.8820037841797",
         "63.50188446044922",
         "117.31099700927734",
         "45.228240966796875",
         "102.26712799072266"
        ],
        [
         "2021-03-11 00:00:00",
         "57.58125305175781",
         "229.28231811523438",
         "102.05113983154297",
         "57.09518814086914",
         "135.0956573486328",
         "119.30621337890625",
         "155.67950439453125",
         "63.12302017211914",
         "120.86141967773438",
         "44.73585891723633",
         "105.24003601074219"
        ],
        [
         "2021-03-12 00:00:00",
         "57.20834732055664",
         "227.947998046875",
         "102.42838287353516",
         "57.46504211425781",
         "135.24839782714844",
         "118.39646911621094",
         "154.47450256347656",
         "64.73316955566406",
         "119.24674224853516",
         "44.647216796875",
         "102.6099853515625"
        ],
        [
         "2021-03-15 00:00:00",
         "58.017818450927734",
         "227.03909301757812",
         "103.20698547363281",
         "56.28614807128906",
         "137.37779235839844",
         "121.29204559326172",
         "154.08399963378906",
         "63.906578063964844",
         "120.76966094970703",
         "45.241207122802734",
         "102.83741760253906"
        ],
        [
         "2021-03-16 00:00:00",
         "58.91822814941406",
         "229.84312438964844",
         "102.93407440185547",
         "55.36153030395508",
         "136.6590118408203",
         "122.83768463134766",
         "154.59300231933594",
         "63.14023208618164",
         "122.61367797851562",
         "45.4096565246582",
         "104.13277435302734"
        ]
       ],
       "shape": {
        "columns": 11,
        "rows": 251
       }
      },
      "text/html": [
       "<div>\n",
       "<style scoped>\n",
       "    .dataframe tbody tr th:only-of-type {\n",
       "        vertical-align: middle;\n",
       "    }\n",
       "\n",
       "    .dataframe tbody tr th {\n",
       "        vertical-align: top;\n",
       "    }\n",
       "\n",
       "    .dataframe thead th {\n",
       "        text-align: right;\n",
       "    }\n",
       "</style>\n",
       "<table border=\"1\" class=\"dataframe\">\n",
       "  <thead>\n",
       "    <tr style=\"text-align: right;\">\n",
       "      <th></th>\n",
       "      <th>Intel</th>\n",
       "      <th>Microsoft</th>\n",
       "      <th>IBM</th>\n",
       "      <th>BHP</th>\n",
       "      <th>Toyota</th>\n",
       "      <th>Apple</th>\n",
       "      <th>Amazon</th>\n",
       "      <th>Citigroup</th>\n",
       "      <th>Qualcomm</th>\n",
       "      <th>Coca-Cola</th>\n",
       "      <th>Google</th>\n",
       "    </tr>\n",
       "  </thead>\n",
       "  <tbody>\n",
       "    <tr>\n",
       "      <th>2021-01-04</th>\n",
       "      <td>44.902943</td>\n",
       "      <td>210.002014</td>\n",
       "      <td>98.170776</td>\n",
       "      <td>51.894211</td>\n",
       "      <td>137.728195</td>\n",
       "      <td>126.405243</td>\n",
       "      <td>159.331497</td>\n",
       "      <td>51.345413</td>\n",
       "      <td>135.591232</td>\n",
       "      <td>46.388844</td>\n",
       "      <td>86.004646</td>\n",
       "    </tr>\n",
       "    <tr>\n",
       "      <th>2021-01-05</th>\n",
       "      <td>45.752728</td>\n",
       "      <td>210.204620</td>\n",
       "      <td>99.913338</td>\n",
       "      <td>53.550816</td>\n",
       "      <td>137.827026</td>\n",
       "      <td>127.968094</td>\n",
       "      <td>160.925507</td>\n",
       "      <td>52.677284</td>\n",
       "      <td>139.179596</td>\n",
       "      <td>45.878876</td>\n",
       "      <td>86.635658</td>\n",
       "    </tr>\n",
       "    <tr>\n",
       "      <th>2021-01-06</th>\n",
       "      <td>46.195690</td>\n",
       "      <td>204.754150</td>\n",
       "      <td>102.408401</td>\n",
       "      <td>55.253658</td>\n",
       "      <td>137.943817</td>\n",
       "      <td>123.660477</td>\n",
       "      <td>156.919006</td>\n",
       "      <td>55.708153</td>\n",
       "      <td>138.047424</td>\n",
       "      <td>44.419338</td>\n",
       "      <td>86.355476</td>\n",
       "    </tr>\n",
       "    <tr>\n",
       "      <th>2021-01-07</th>\n",
       "      <td>47.181076</td>\n",
       "      <td>210.580841</td>\n",
       "      <td>102.170776</td>\n",
       "      <td>56.386314</td>\n",
       "      <td>137.171143</td>\n",
       "      <td>127.880211</td>\n",
       "      <td>158.108002</td>\n",
       "      <td>56.365555</td>\n",
       "      <td>142.165359</td>\n",
       "      <td>43.926964</td>\n",
       "      <td>88.941231</td>\n",
       "    </tr>\n",
       "    <tr>\n",
       "      <th>2021-01-08</th>\n",
       "      <td>46.692917</td>\n",
       "      <td>211.863846</td>\n",
       "      <td>101.806427</td>\n",
       "      <td>56.602062</td>\n",
       "      <td>137.332886</td>\n",
       "      <td>128.983932</td>\n",
       "      <td>159.134995</td>\n",
       "      <td>55.810600</td>\n",
       "      <td>143.023697</td>\n",
       "      <td>44.911720</td>\n",
       "      <td>89.934532</td>\n",
       "    </tr>\n",
       "    <tr>\n",
       "      <th>...</th>\n",
       "      <td>...</td>\n",
       "      <td>...</td>\n",
       "      <td>...</td>\n",
       "      <td>...</td>\n",
       "      <td>...</td>\n",
       "      <td>...</td>\n",
       "      <td>...</td>\n",
       "      <td>...</td>\n",
       "      <td>...</td>\n",
       "      <td>...</td>\n",
       "      <td>...</td>\n",
       "    </tr>\n",
       "    <tr>\n",
       "      <th>2021-12-23</th>\n",
       "      <td>47.588299</td>\n",
       "      <td>325.576416</td>\n",
       "      <td>113.674805</td>\n",
       "      <td>46.169281</td>\n",
       "      <td>169.702637</td>\n",
       "      <td>173.248444</td>\n",
       "      <td>171.068497</td>\n",
       "      <td>52.974903</td>\n",
       "      <td>169.930237</td>\n",
       "      <td>52.803318</td>\n",
       "      <td>146.448853</td>\n",
       "    </tr>\n",
       "    <tr>\n",
       "      <th>2021-12-27</th>\n",
       "      <td>48.172604</td>\n",
       "      <td>333.125122</td>\n",
       "      <td>114.536293</td>\n",
       "      <td>46.454372</td>\n",
       "      <td>171.660233</td>\n",
       "      <td>177.228790</td>\n",
       "      <td>169.669495</td>\n",
       "      <td>53.362019</td>\n",
       "      <td>173.268616</td>\n",
       "      <td>53.193310</td>\n",
       "      <td>147.365997</td>\n",
       "    </tr>\n",
       "    <tr>\n",
       "      <th>2021-12-28</th>\n",
       "      <td>48.005661</td>\n",
       "      <td>331.957794</td>\n",
       "      <td>115.415199</td>\n",
       "      <td>45.938126</td>\n",
       "      <td>170.598343</td>\n",
       "      <td>176.206665</td>\n",
       "      <td>170.660995</td>\n",
       "      <td>53.335636</td>\n",
       "      <td>171.864456</td>\n",
       "      <td>53.401913</td>\n",
       "      <td>145.757629</td>\n",
       "    </tr>\n",
       "    <tr>\n",
       "      <th>2021-12-29</th>\n",
       "      <td>48.070576</td>\n",
       "      <td>332.638763</td>\n",
       "      <td>116.041756</td>\n",
       "      <td>46.392731</td>\n",
       "      <td>169.610291</td>\n",
       "      <td>176.295166</td>\n",
       "      <td>169.201004</td>\n",
       "      <td>53.265244</td>\n",
       "      <td>173.147705</td>\n",
       "      <td>53.465401</td>\n",
       "      <td>145.813873</td>\n",
       "    </tr>\n",
       "    <tr>\n",
       "      <th>2021-12-30</th>\n",
       "      <td>47.987110</td>\n",
       "      <td>330.080353</td>\n",
       "      <td>116.529060</td>\n",
       "      <td>46.431255</td>\n",
       "      <td>169.979675</td>\n",
       "      <td>175.135452</td>\n",
       "      <td>168.644501</td>\n",
       "      <td>53.168465</td>\n",
       "      <td>169.920959</td>\n",
       "      <td>53.311214</td>\n",
       "      <td>145.314224</td>\n",
       "    </tr>\n",
       "  </tbody>\n",
       "</table>\n",
       "<p>251 rows × 11 columns</p>\n",
       "</div>"
      ],
      "text/plain": [
       "                Intel   Microsoft         IBM        BHP      Toyota  \\\n",
       "2021-01-04  44.902943  210.002014   98.170776  51.894211  137.728195   \n",
       "2021-01-05  45.752728  210.204620   99.913338  53.550816  137.827026   \n",
       "2021-01-06  46.195690  204.754150  102.408401  55.253658  137.943817   \n",
       "2021-01-07  47.181076  210.580841  102.170776  56.386314  137.171143   \n",
       "2021-01-08  46.692917  211.863846  101.806427  56.602062  137.332886   \n",
       "...               ...         ...         ...        ...         ...   \n",
       "2021-12-23  47.588299  325.576416  113.674805  46.169281  169.702637   \n",
       "2021-12-27  48.172604  333.125122  114.536293  46.454372  171.660233   \n",
       "2021-12-28  48.005661  331.957794  115.415199  45.938126  170.598343   \n",
       "2021-12-29  48.070576  332.638763  116.041756  46.392731  169.610291   \n",
       "2021-12-30  47.987110  330.080353  116.529060  46.431255  169.979675   \n",
       "\n",
       "                 Apple      Amazon  Citigroup    Qualcomm  Coca-Cola  \\\n",
       "2021-01-04  126.405243  159.331497  51.345413  135.591232  46.388844   \n",
       "2021-01-05  127.968094  160.925507  52.677284  139.179596  45.878876   \n",
       "2021-01-06  123.660477  156.919006  55.708153  138.047424  44.419338   \n",
       "2021-01-07  127.880211  158.108002  56.365555  142.165359  43.926964   \n",
       "2021-01-08  128.983932  159.134995  55.810600  143.023697  44.911720   \n",
       "...                ...         ...        ...         ...        ...   \n",
       "2021-12-23  173.248444  171.068497  52.974903  169.930237  52.803318   \n",
       "2021-12-27  177.228790  169.669495  53.362019  173.268616  53.193310   \n",
       "2021-12-28  176.206665  170.660995  53.335636  171.864456  53.401913   \n",
       "2021-12-29  176.295166  169.201004  53.265244  173.147705  53.465401   \n",
       "2021-12-30  175.135452  168.644501  53.168465  169.920959  53.311214   \n",
       "\n",
       "                Google  \n",
       "2021-01-04   86.004646  \n",
       "2021-01-05   86.635658  \n",
       "2021-01-06   86.355476  \n",
       "2021-01-07   88.941231  \n",
       "2021-01-08   89.934532  \n",
       "...                ...  \n",
       "2021-12-23  146.448853  \n",
       "2021-12-27  147.365997  \n",
       "2021-12-28  145.757629  \n",
       "2021-12-29  145.813873  \n",
       "2021-12-30  145.314224  \n",
       "\n",
       "[251 rows x 11 columns]"
      ]
     },
     "execution_count": 130,
     "metadata": {},
     "output_type": "execute_result"
    }
   ],
   "source": [
    "import datetime as dt\n",
    "import yfinance as yf\n",
    "\n",
    "def read_data(ticker_list,\n",
    "          start=dt.datetime(2021, 1, 1),\n",
    "          end=dt.datetime(2021, 12, 31)):\n",
    "    \"\"\"\n",
    "    This function reads in closing price data from Yahoo\n",
    "    for each tick in the ticker_list.\n",
    "    \"\"\"\n",
    "    ticker = pd.DataFrame()\n",
    "\n",
    "    for tick in ticker_list:\n",
    "        stock = yf.Ticker(tick)\n",
    "        prices = stock.history(start=start, end=end)\n",
    "\n",
    "        # Change the index to date-only\n",
    "        prices.index = pd.to_datetime(prices.index.date)\n",
    "        \n",
    "        closing_prices = prices['Close']\n",
    "        ticker[tick] = closing_prices\n",
    "\n",
    "    return ticker\n",
    "\n",
    "ticker_list = {'INTC': 'Intel',\n",
    "               'MSFT': 'Microsoft',\n",
    "               'IBM': 'IBM',\n",
    "               'BHP': 'BHP',\n",
    "               'TM': 'Toyota',\n",
    "               'AAPL': 'Apple',\n",
    "               'AMZN': 'Amazon',\n",
    "               'C': 'Citigroup',\n",
    "               'QCOM': 'Qualcomm',\n",
    "               'KO': 'Coca-Cola',\n",
    "               'GOOG': 'Google'}\n",
    "\n",
    "ticker = read_data(ticker_list)\n",
    "ticker = ticker.rename(columns=ticker_list) # changes the x axis names from tickers to company names\n",
    "ticker\n",
    "\n"
   ]
  },
  {
   "cell_type": "code",
   "execution_count": 132,
   "metadata": {},
   "outputs": [
    {
     "name": "stdout",
     "output_type": "stream",
     "text": [
      "BHP         -10.527100\n",
      "Citigroup     3.550563\n",
      "Amazon        5.845049\n",
      "Intel         6.868520\n",
      "Coca-Cola    14.922491\n",
      "IBM          18.700355\n",
      "Toyota       23.416759\n",
      "Qualcomm     25.318545\n",
      "Apple        38.550782\n",
      "Microsoft    57.179613\n",
      "Google       68.960900\n",
      "dtype: float64\n"
     ]
    },
    {
     "data": {
      "image/png": "[encoded data removed]",
      "text/plain": [
       "<Figure size 1200x600 with 1 Axes>"
      ]
     },
     "metadata": {},
     "output_type": "display_data"
    }
   ],
   "source": [
    "start = ticker.iloc[0,:] # first row, all columns\n",
    "end = ticker.iloc[-1,:] # last row, all columns\n",
    "\n",
    "percent_change = ((end-start)/start)*100\n",
    "percent_change = percent_change.sort_values(ascending=True)\n",
    "\n",
    "print(percent_change)\n",
    "\n",
    "fig, ax = plt.subplots(figsize = (12,6))\n",
    "ax.bar(percent_change.index, percent_change)\n",
    "plt.xlabel(\"Stocks\")\n",
    "plt.ylabel(\"Percent change\")\n",
    "plt.title(\"Percent change in stock price for the year 2021\")\n",
    "plt.show()"
   ]
  },
  {
   "cell_type": "markdown",
   "metadata": {},
   "source": [
    "# Exercise 14.2\n",
    "\n",
    "Obtain year on year percent change for the following indices"
   ]
  },
  {
   "cell_type": "code",
   "execution_count": 165,
   "metadata": {},
   "outputs": [
    {
     "data": {
      "image/png": "[encoded data removed]",
      "text/plain": [
       "<Figure size 640x480 with 1 Axes>"
      ]
     },
     "metadata": {},
     "output_type": "display_data"
    },
    {
     "data": {
      "image/png": "[encoded data removed]",
      "text/plain": [
       "<Figure size 640x480 with 1 Axes>"
      ]
     },
     "metadata": {},
     "output_type": "display_data"
    },
    {
     "data": {
      "image/png": "[encoded data removed]",
      "text/plain": [
       "<Figure size 640x480 with 1 Axes>"
      ]
     },
     "metadata": {},
     "output_type": "display_data"
    },
    {
     "data": {
      "image/png": "[encoded data removed]",
      "text/plain": [
       "<Figure size 640x480 with 1 Axes>"
      ]
     },
     "metadata": {},
     "output_type": "display_data"
    }
   ],
   "source": [
    "indices_list = {'^GSPC': 'S&P 500',\n",
    "               '^IXIC': 'NASDAQ',\n",
    "               '^DJI': 'Dow Jones',\n",
    "               '^N225': 'Nikkei'}\n",
    "\n",
    "indices_data = read_data(indices_list, start=dt.datetime(1971,1,1))\n",
    "\n",
    "for index in list(indices_data.columns):\n",
    "    start = indices_data.groupby(indices_data.index.year)[index].first()\n",
    "    end = indices_data.groupby(indices_data.index.year)[index].last()\n",
    "    percent_change_index = ((end-start)/start)*100\n",
    "    fig, ax = plt.subplots()\n",
    "    ax.plot(percent_change_index)\n",
    "    ax.axhline(0, color=\"black\", linestyle = \":\")\n",
    "    plt.title(indices_list[index])\n",
    "    plt.xlabel(\"Year\")\n",
    "    plt.ylabel(\"Year on year change (%)\")\n",
    "    plt.show()\n",
    "\n"
   ]
  }
 ],
 "metadata": {
  "kernelspec": {
   "display_name": "quantecon",
   "language": "python",
   "name": "python3"
  },
  "language_info": {
   "codemirror_mode": {
    "name": "ipython",
    "version": 3
   },
   "file_extension": ".py",
   "mimetype": "text/x-python",
   "name": "python",
   "nbconvert_exporter": "python",
   "pygments_lexer": "ipython3",
   "version": "3.13.2"
  }
 },
 "nbformat": 4,
 "nbformat_minor": 2
}
