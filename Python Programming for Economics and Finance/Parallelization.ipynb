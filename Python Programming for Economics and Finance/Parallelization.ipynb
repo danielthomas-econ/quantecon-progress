{
 "cells": [
  {
   "cell_type": "code",
   "execution_count": 9,
   "id": "11265dac",
   "metadata": {},
   "outputs": [],
   "source": [
    "import numpy as np\n",
    "import quantecon as qe\n",
    "import matplotlib.pyplot as plt\n",
    "from numba import vectorize"
   ]
  },
  {
   "cell_type": "code",
   "execution_count": 3,
   "id": "fd31850c",
   "metadata": {},
   "outputs": [],
   "source": [
    "# looking at numpy's implicit multithreading\n",
    "n = 50\n",
    "m = 1000\n",
    "for i in range(n):\n",
    "    X = np.random.randn(m, m)\n",
    "    λ = np.linalg.eigvals(X)"
   ]
  },
  {
   "cell_type": "code",
   "execution_count": 15,
   "id": "ac042df3",
   "metadata": {},
   "outputs": [
    {
     "data": {
      "text/plain": [
       "np.float64(0.9999992797121728)"
      ]
     },
     "execution_count": 15,
     "metadata": {},
     "output_type": "execute_result"
    }
   ],
   "source": [
    "# using numba's jit compilation + numpy's implicit multithreading together\n",
    "@vectorize('float64(float64,float64)',target='parallel')\n",
    "def f_vec(x, y):\n",
    "    return np.cos(x**2 + y**2) / (1 + x**2 + y**2)\n",
    "\n",
    "grid = np.linspace(-3, 3, 5000)\n",
    "x, y = np.meshgrid(grid, grid)\n",
    "\n",
    "np.max(f_vec(x, y))  # run once to compile"
   ]
  },
  {
   "cell_type": "code",
   "execution_count": 20,
   "id": "d86c7ed0",
   "metadata": {},
   "outputs": [],
   "source": [
    "# multithreaded loops in numba\n",
    "# base approach\n",
    "\n",
    "\"\"\" \n",
    "w_t -> wealth at time t\n",
    "R_t -> gross rate of return on assets at time t\n",
    "s -> savings rate of the household\n",
    "y_t -> labor income at time t\n",
    "Both R and y are modelled as independent draws ffrom a lognormal distribution\n",
    "\"\"\"\n",
    "from numpy.random import randn\n",
    "from numba import njit\n",
    "\n",
    "@njit\n",
    "def h(w, r=0.1, s=0.3, v1=0.1, v2=1.0):\n",
    "    \"\"\"\n",
    "    Updates household wealth.\n",
    "    \"\"\"\n",
    "\n",
    "    # Draw shocks\n",
    "    R = np.exp(v1 * randn()) * (1 + r)\n",
    "    y = np.exp(v2 * randn())\n",
    "\n",
    "    # Update wealth\n",
    "    w = R * s * w + y\n",
    "    return w"
   ]
  },
  {
   "cell_type": "code",
   "execution_count": 21,
   "id": "731976f4",
   "metadata": {},
   "outputs": [],
   "source": [
    "# sim 50k households for 1k periods to get a long run median\n",
    "@njit\n",
    "def compute_long_run_median(w0=1, T=1000, num_reps=50_000):\n",
    "\n",
    "    obs = np.empty(num_reps)\n",
    "    for i in range(num_reps):\n",
    "        w = w0\n",
    "        for t in range(T):\n",
    "            w = h(w)\n",
    "        obs[i] = w\n",
    "\n",
    "    return np.median(obs)"
   ]
  },
  {
   "cell_type": "code",
   "execution_count": 22,
   "id": "1ac798a7",
   "metadata": {},
   "outputs": [
    {
     "name": "stdout",
     "output_type": "stream",
     "text": [
      "CPU times: total: 3.12 s\n",
      "Wall time: 3.22 s\n"
     ]
    },
    {
     "data": {
      "text/plain": [
       "1.8444705123154324"
      ]
     },
     "execution_count": 22,
     "metadata": {},
     "output_type": "execute_result"
    }
   ],
   "source": [
    "%%time\n",
    "compute_long_run_median()"
   ]
  },
  {
   "cell_type": "code",
   "execution_count": 23,
   "id": "e203ff16",
   "metadata": {},
   "outputs": [],
   "source": [
    "# the numba version using prange\n",
    "from numba import prange\n",
    "\n",
    "@njit(parallel=True)\n",
    "def compute_long_run_median_parallel(w0=1, T=1000, num_reps=50_000):\n",
    "\n",
    "    obs = np.empty(num_reps)\n",
    "    for i in prange(num_reps):\n",
    "        w = w0\n",
    "        for t in range(T):\n",
    "            w = h(w)\n",
    "        obs[i] = w\n",
    "\n",
    "    return np.median(obs)"
   ]
  },
  {
   "cell_type": "code",
   "execution_count": 24,
   "id": "8f02e86a",
   "metadata": {},
   "outputs": [
    {
     "name": "stdout",
     "output_type": "stream",
     "text": [
      "CPU times: total: 4.42 s\n",
      "Wall time: 928 ms\n"
     ]
    },
    {
     "data": {
      "text/plain": [
       "1.8266961452503567"
      ]
     },
     "execution_count": 24,
     "metadata": {},
     "output_type": "execute_result"
    }
   ],
   "source": [
    "%%time\n",
    "compute_long_run_median_parallel()"
   ]
  },
  {
   "cell_type": "markdown",
   "id": "a269f977",
   "metadata": {},
   "source": [
    "# Ex 18.1\n",
    "Parallelize the Monte-Carlo estimator for $\\pi$."
   ]
  },
  {
   "cell_type": "code",
   "execution_count": null,
   "id": "71afcbc5",
   "metadata": {},
   "outputs": [
    {
     "name": "stdout",
     "output_type": "stream",
     "text": [
      "3.14178696\n",
      "Parallelized implementation: 1.823604 seconds\n"
     ]
    }
   ],
   "source": [
    "from numba import njit, prange\n",
    "import numpy as np\n",
    "import time\n",
    "\n",
    "n = 10**8\n",
    "\n",
    "@njit\n",
    "def calc_pi(n):  # n = number of iterations, higher n = more accurate\n",
    "    p = np.random.rand(n)\n",
    "    q = np.random.rand(n)\n",
    "\n",
    "    quadrant = 0  # points in the quadrant (d<1)\n",
    "    square = 0  # points in the square and not in the quadrant (d>1)\n",
    "\n",
    "    distance = np.sqrt((p ** 2) + (q ** 2))\n",
    "\n",
    "    for d in prange(len(distance)):\n",
    "        if distance[d] <= 1:\n",
    "            quadrant += 1\n",
    "        else:\n",
    "            square += 1\n",
    "\n",
    "    ratio = quadrant / (quadrant + square)\n",
    "    π = ratio * 4\n",
    "    return π\n",
    "\n",
    "# time the numba implementation\n",
    "start_numba = time.time()\n",
    "pi_estimate = calc_pi(n)\n",
    "end_numba = time.time()\n",
    "print(pi_estimate)\n",
    "\n",
    "print(f\"Parallelized implementation: {end_numba-start_numba:.6f} seconds\")\n",
    "# for ref, numba with njit was 1.629 secs and with prange its about 1.823 for n = 10**8\n",
    "# the tasks are so small that parallelizing isnt giving any sizeable benefits"
   ]
  }
 ],
 "metadata": {
  "kernelspec": {
   "display_name": "quantecon",
   "language": "python",
   "name": "python3"
  },
  "language_info": {
   "codemirror_mode": {
    "name": "ipython",
    "version": 3
   },
   "file_extension": ".py",
   "mimetype": "text/x-python",
   "name": "python",
   "nbconvert_exporter": "python",
   "pygments_lexer": "ipython3",
   "version": "3.13.2"
  }
 },
 "nbformat": 4,
 "nbformat_minor": 5
}
