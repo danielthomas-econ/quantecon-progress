{
 "cells": [
  {
   "cell_type": "code",
   "execution_count": 13,
   "id": "3f2a0d4d",
   "metadata": {},
   "outputs": [],
   "source": [
    "import numpy as np\n",
    "from ortools.linear_solver import pywraplp\n",
    "from scipy.optimize import linprog\n",
    "import matplotlib.pyplot as plt\n",
    "from matplotlib.patches import Polygon"
   ]
  },
  {
   "cell_type": "code",
   "execution_count": 5,
   "id": "109d2a3c",
   "metadata": {},
   "outputs": [],
   "source": [
    "# Instantiate a GLOP(Google Linear Optimization Package) solver\n",
    "solver = pywraplp.Solver.CreateSolver('GLOP')"
   ]
  },
  {
   "cell_type": "code",
   "execution_count": 6,
   "id": "badd9195",
   "metadata": {},
   "outputs": [],
   "source": [
    "# Create the two variables and let them take on any non-negative value.\n",
    "x1 = solver.NumVar(0, solver.infinity(), 'x1')\n",
    "x2 = solver.NumVar(0, solver.infinity(), 'x2')"
   ]
  },
  {
   "cell_type": "code",
   "execution_count": 7,
   "id": "2390dbaf",
   "metadata": {},
   "outputs": [
    {
     "data": {
      "text/plain": [
       "<ortools.linear_solver.pywraplp.Constraint; proxy of <Swig Object of type 'operations_research::MPConstraint *' at 0x000002544399D1A0> >"
      ]
     },
     "execution_count": 7,
     "metadata": {},
     "output_type": "execute_result"
    }
   ],
   "source": [
    "# Constraint 1: 2x_1 + 5x_2 <= 30.0\n",
    "solver.Add(2 * x1 + 5 * x2 <= 30.0)\n",
    "\n",
    "# Constraint 2: 4x_1 + 2x_2 <= 20.0\n",
    "solver.Add(4 * x1 + 2 * x2 <= 20.0)"
   ]
  },
  {
   "cell_type": "code",
   "execution_count": 8,
   "id": "da8cc8f3",
   "metadata": {},
   "outputs": [],
   "source": [
    "# Objective function: 3x_1 + 4x_2\n",
    "solver.Maximize(3 * x1 + 4 * x2)"
   ]
  },
  {
   "cell_type": "code",
   "execution_count": 9,
   "id": "686bfe27",
   "metadata": {},
   "outputs": [
    {
     "name": "stdout",
     "output_type": "stream",
     "text": [
      "Objective value = 27.5\n",
      "(x1, x2): (2.5, 5.0)\n"
     ]
    }
   ],
   "source": [
    "# Solve the system.\n",
    "status = solver.Solve()\n",
    "\n",
    "if status == pywraplp.Solver.OPTIMAL:\n",
    "    print('Objective value =', solver.Objective().Value())\n",
    "    print(f'(x1, x2): ({x1.solution_value():.2}, {x2.solution_value():.2})')\n",
    "else:\n",
    "    print('The problem does not have an optimal solution.')"
   ]
  },
  {
   "cell_type": "code",
   "execution_count": 3,
   "id": "007f69d8",
   "metadata": {},
   "outputs": [],
   "source": [
    "# Construct parameters\n",
    "c_ex1 = np.array([3, 4])\n",
    "\n",
    "# Inequality constraints\n",
    "A_ex1 = np.array([[2, 5],\n",
    "                  [4, 2]])\n",
    "b_ex1 = np.array([30,20])"
   ]
  },
  {
   "cell_type": "code",
   "execution_count": 4,
   "id": "a1e24a4b",
   "metadata": {},
   "outputs": [
    {
     "name": "stdout",
     "output_type": "stream",
     "text": [
      "Optimal Value: 27.5\n",
      "(x1, x2): (np.float64(2.5), np.float64(5.0))\n"
     ]
    }
   ],
   "source": [
    "# Solve the problem\n",
    "# we put a negative sign on the objective as linprog does minimization\n",
    "res_ex1 = linprog(-c_ex1, A_ub=A_ex1, b_ub=b_ex1)\n",
    "\n",
    "if res_ex1.success:\n",
    "    # We use negative sign to get the optimal value (maximized value)\n",
    "    print('Optimal Value:', -res_ex1.fun)\n",
    "    print(f'(x1, x2): {res_ex1.x[0], res_ex1.x[1]}')\n",
    "else:\n",
    "    print('The problem does not have an optimal solution.')"
   ]
  },
  {
   "cell_type": "markdown",
   "id": "4af3e1c8",
   "metadata": {},
   "source": [
    "# Exercise 37.1\n",
    "\n",
    "Implement a new extended solution for the problem 1 where in the factory owner decides that the number of units of product 1 should not be less than the number of units of product 2.\n",
    "\n",
    "The problem was:\n",
    "$$\\begin{align}\n",
    "\\text{max } 3x_{1} &+ 4x_{2}  \\\\\n",
    "\\text{subject to } 2x_{1}&+ 5x_{2} \\leq 30 \\\\\n",
    "4x_{1} &+ 2x_{2} \\leq 20 \\\\\n",
    " x_{1},x_{2} &\\geq 0\n",
    "\\end{align}$$"
   ]
  },
  {
   "cell_type": "code",
   "execution_count": 11,
   "id": "f15ccb44",
   "metadata": {},
   "outputs": [],
   "source": [
    "objective = np.array([3,4])\n",
    "# now we have the additional constraint 0 <= x2 <= x1\n",
    "# x1 >= x2 => x1 - x2 >= 0 => -x1 + x2 <= 0 (linprog wants <= ineqs)\n",
    "constraint = np.array([[2,5],\n",
    "                       [4, 2],\n",
    "                       [-1, 1]])\n",
    "constraint_constant = np.array([30,20,0])"
   ]
  },
  {
   "cell_type": "code",
   "execution_count": 12,
   "id": "b42a971f",
   "metadata": {},
   "outputs": [
    {
     "name": "stdout",
     "output_type": "stream",
     "text": [
      "Optimal Value: 23.333333333333336\n",
      "(x1, x2): (np.float64(3.333333333333334), np.float64(3.333333333333333))\n"
     ]
    }
   ],
   "source": [
    "result = linprog(-objective, constraint, constraint_constant)\n",
    "\n",
    "if result.success == True:\n",
    "    # We use negative sign to get the optimal value (maximized value)\n",
    "    print('Optimal Value:', -result.fun)\n",
    "    print(f'(x1, x2): {result.x[0], result.x[1]}')\n",
    "else:\n",
    "    print('The problem does not have an optimal solution.')\n"
   ]
  },
  {
   "cell_type": "markdown",
   "id": "a2235b7e",
   "metadata": {},
   "source": [
    "# Exercise 37.2\n",
    "A carpenter manufactures $2$ products $A$ and $B$.\n",
    "\n",
    "Product $A$ generates a profit of $23$ and product $B$ generates a profit of $10$.\n",
    "\n",
    "It takes $2$ hours for the carpenter to produce $A$ and $0.8$ hours to produce $B$.\n",
    "\n",
    "Moreover, he can't spend more than $25$ hours a week and the total number of units of $A$ and $B$ should not be greater than $20$.\n",
    "\n",
    "Find the number of units of $A$ and $B$ he should manufacture in order to maximize his profit."
   ]
  },
  {
   "cell_type": "markdown",
   "id": "17b10b3d",
   "metadata": {},
   "source": [
    "### Solution\n",
    "Let $x_{1}$ represent product $A$ and $x_{2}$ represent product $B$. Our problem is $$\\begin{align}\n",
    "\\text{max } 23x_{1} &+ 10x_{2} \\\\\n",
    "\\text{subject to } 2x_{1} & +\\:0.8x_{2}  \\leq 25 \\\\\n",
    "x_{1} & + x_{2} \\leq 20 \\\\\n",
    "x_{1}&, x_{2} \\geq 0\n",
    "\\end{align}$$"
   ]
  },
  {
   "cell_type": "code",
   "execution_count": 14,
   "id": "57779fbf",
   "metadata": {},
   "outputs": [],
   "source": [
    "obj = np.array([23, 10])\n",
    "constraint = np.array([[2,0.8],\n",
    "                       [1, 1]])\n",
    "constants = np.array([25,20])"
   ]
  },
  {
   "cell_type": "code",
   "execution_count": 16,
   "id": "ea2f2ab4",
   "metadata": {},
   "outputs": [
    {
     "name": "stdout",
     "output_type": "stream",
     "text": [
      "The carpenter can maximize his profit by producing 7.5 units of A and 12.5 units of B to earn $297.5\n"
     ]
    }
   ],
   "source": [
    "soln = linprog(-obj, constraint, constants)\n",
    "\n",
    "if soln.success == True:\n",
    "    print(f\"The carpenter can maximize his profit by producing {soln.x[0]} units of A and {soln.x[1]} units of B to earn ${-soln.fun}\")\n",
    "else:\n",
    "    print(\"There is no solution to the problem\")"
   ]
  }
 ],
 "metadata": {
  "kernelspec": {
   "display_name": "quantecon",
   "language": "python",
   "name": "python3"
  },
  "language_info": {
   "codemirror_mode": {
    "name": "ipython",
    "version": 3
   },
   "file_extension": ".py",
   "mimetype": "text/x-python",
   "name": "python",
   "nbconvert_exporter": "python",
   "pygments_lexer": "ipython3",
   "version": "3.13.2"
  }
 },
 "nbformat": 4,
 "nbformat_minor": 5
}
